{
 "cells": [
  {
   "cell_type": "markdown",
   "metadata": {},
   "source": [
    "# City Bike Share Analysis\n",
    "\n"
   ]
  },
  {
   "cell_type": "markdown",
   "metadata": {},
   "source": [
    "# # Project Summary\n",
    "\n",
    "###Problem Statement\n",
    "\n",
    "###What is the likelihood that a Bike Share program will succeed in the City of Atlanta? \n",
    "By using bike share data from other US cities, I want to be able to analyze the popularity and trends of bike shares amongst females and males of different ages. \n",
    "\n"
   ]
  },
  {
   "cell_type": "markdown",
   "metadata": {},
   "source": [
    "## Description of Data and Collection method\n",
    "\n",
    "CSV Files of Open Dataset for:\n",
    "*Chicago Q1 & Q2 2015\n",
    "*Boston 2011 to 2013\n",
    "*NYC Jan 2015 to Jul 2015\n",
    "\n",
    "Files Contain:\n",
    "Gender\n",
    "Year of Birth\n",
    "Trip date and time\n",
    "Duration of Trip\n",
    "\n",
    "###Transformation and data aggregation description:\n",
    "I loaded data for Chicago and Boston into a single table (via MS Sql Server Express), where the total volume is ~1.2 M records.In order to conform data to a standard gender code, I updated the gender for each record to \"Female\" and \"Male\" values.\n",
    "The data was then aggregrated by sum of duration , grouped by city,gender and age. The aggregrated data was outputted to a CSV file for use in cross validation and model use.\n"
   ]
  },
  {
   "cell_type": "markdown",
   "metadata": {},
   "source": [
    "  "
   ]
  },
  {
   "cell_type": "code",
   "execution_count": 39,
   "metadata": {
    "collapsed": true
   },
   "outputs": [],
   "source": [
    "import pandas as pd\n",
    "import numpy as np\n",
    "import matplotlib.pyplot as plt\n",
    "from sklearn import linear_model\n",
    "from sklearn.linear_model import Lasso\n",
    "from sklearn.linear_model import Ridge\n",
    "from sklearn.preprocessing import StandardScaler\n",
    "from sklearn import cross_validation\n",
    "from sklearn.metrics import mean_squared_error\n",
    "from sklearn import grid_search\n",
    "from sklearn import tree\n",
    "from sklearn.ensemble import RandomForestClassifier\n",
    "from sklearn.metrics import accuracy_score\n",
    "\n",
    "%matplotlib inline\n",
    "\n"
   ]
  },
  {
   "cell_type": "code",
   "execution_count": 40,
   "metadata": {
    "collapsed": false
   },
   "outputs": [],
   "source": [
    "#dsCity= pd.read_csv('https://raw.githubusercontent.com/Sw3m/Data_Science_GA_Project_15/master/Datasets/CityBikeShareExtract.csv')\n",
    "dsCity= pd.read_csv('C:/Users/sawadhawan/Documents/GitHub/Data_Science_GA_Project_15/Datasets/CityBikeShareExtract.csv')"
   ]
  },
  {
   "cell_type": "code",
   "execution_count": 41,
   "metadata": {
    "collapsed": true
   },
   "outputs": [],
   "source": [
    "#dsBike= pd.read_csv('https://raw.githubusercontent.com/Sw3m/Data_Science_GA_Project_15/master/Datasets/ALLBikeShareExtract.csv')\n",
    "dsBike= pd.read_csv('C:/Users/sawadhawan/Documents/GitHub/Data_Science_GA_Project_15/Datasets/ALLBikeShareExtract.csv')"
   ]
  },
  {
   "cell_type": "code",
   "execution_count": 42,
   "metadata": {
    "collapsed": false
   },
   "outputs": [
    {
     "data": {
      "text/html": [
       "<div>\n",
       "<table border=\"1\" class=\"dataframe\">\n",
       "  <thead>\n",
       "    <tr style=\"text-align: right;\">\n",
       "      <th></th>\n",
       "      <th>City</th>\n",
       "      <th>NumRecords</th>\n",
       "      <th>Gender</th>\n",
       "      <th>Age</th>\n",
       "      <th>AgeRange</th>\n",
       "      <th>YearOfBirth</th>\n",
       "      <th>TotalDur_sec</th>\n",
       "      <th>AvgDur_sec</th>\n",
       "    </tr>\n",
       "  </thead>\n",
       "  <tbody>\n",
       "    <tr>\n",
       "      <th>0</th>\n",
       "      <td>Boston</td>\n",
       "      <td>5</td>\n",
       "      <td>Female</td>\n",
       "      <td>83</td>\n",
       "      <td>75 Years or older</td>\n",
       "      <td>1932</td>\n",
       "      <td>4182</td>\n",
       "      <td>836</td>\n",
       "    </tr>\n",
       "    <tr>\n",
       "      <th>1</th>\n",
       "      <td>Boston</td>\n",
       "      <td>2</td>\n",
       "      <td>Female</td>\n",
       "      <td>77</td>\n",
       "      <td>75 Years or older</td>\n",
       "      <td>1938</td>\n",
       "      <td>1457</td>\n",
       "      <td>728</td>\n",
       "    </tr>\n",
       "    <tr>\n",
       "      <th>2</th>\n",
       "      <td>Boston</td>\n",
       "      <td>11</td>\n",
       "      <td>Male</td>\n",
       "      <td>77</td>\n",
       "      <td>75 Years or older</td>\n",
       "      <td>1938</td>\n",
       "      <td>7645</td>\n",
       "      <td>695</td>\n",
       "    </tr>\n",
       "    <tr>\n",
       "      <th>3</th>\n",
       "      <td>Boston</td>\n",
       "      <td>11</td>\n",
       "      <td>Male</td>\n",
       "      <td>76</td>\n",
       "      <td>75 Years or older</td>\n",
       "      <td>1939</td>\n",
       "      <td>4956</td>\n",
       "      <td>450</td>\n",
       "    </tr>\n",
       "    <tr>\n",
       "      <th>4</th>\n",
       "      <td>Boston</td>\n",
       "      <td>16</td>\n",
       "      <td>Male</td>\n",
       "      <td>75</td>\n",
       "      <td>75 Years or older</td>\n",
       "      <td>1940</td>\n",
       "      <td>10131</td>\n",
       "      <td>633</td>\n",
       "    </tr>\n",
       "  </tbody>\n",
       "</table>\n",
       "</div>"
      ],
      "text/plain": [
       "     City  NumRecords  Gender  Age           AgeRange  YearOfBirth  \\\n",
       "0  Boston           5  Female   83  75 Years or older         1932   \n",
       "1  Boston           2  Female   77  75 Years or older         1938   \n",
       "2  Boston          11    Male   77  75 Years or older         1938   \n",
       "3  Boston          11    Male   76  75 Years or older         1939   \n",
       "4  Boston          16    Male   75  75 Years or older         1940   \n",
       "\n",
       "   TotalDur_sec  AvgDur_sec  \n",
       "0          4182         836  \n",
       "1          1457         728  \n",
       "2          7645         695  \n",
       "3          4956         450  \n",
       "4         10131         633  "
      ]
     },
     "execution_count": 42,
     "metadata": {},
     "output_type": "execute_result"
    }
   ],
   "source": [
    "dsCity.head()"
   ]
  },
  {
   "cell_type": "code",
   "execution_count": 43,
   "metadata": {
    "collapsed": false
   },
   "outputs": [
    {
     "data": {
      "text/plain": [
       "393"
      ]
     },
     "execution_count": 43,
     "metadata": {},
     "output_type": "execute_result"
    }
   ],
   "source": [
    "len(dsCity.index)"
   ]
  },
  {
   "cell_type": "code",
   "execution_count": 44,
   "metadata": {
    "collapsed": false
   },
   "outputs": [],
   "source": [
    "dsBoston = dsCity[dsCity['City']=='Boston']\n",
    "dsChicago = dsCity[dsCity['City']=='Chicago']\n",
    "dsNYC= dsCity[dsCity['City']=='NYC']\n"
   ]
  },
  {
   "cell_type": "code",
   "execution_count": 45,
   "metadata": {
    "collapsed": false
   },
   "outputs": [
    {
     "data": {
      "text/html": [
       "<div>\n",
       "<table border=\"1\" class=\"dataframe\">\n",
       "  <thead>\n",
       "    <tr style=\"text-align: right;\">\n",
       "      <th></th>\n",
       "      <th>City</th>\n",
       "      <th>NumRecords</th>\n",
       "      <th>Gender</th>\n",
       "      <th>Age</th>\n",
       "      <th>AgeRange</th>\n",
       "      <th>YearOfBirth</th>\n",
       "      <th>TotalDur_sec</th>\n",
       "      <th>AvgDur_sec</th>\n",
       "    </tr>\n",
       "  </thead>\n",
       "  <tbody>\n",
       "    <tr>\n",
       "      <th>0</th>\n",
       "      <td>0</td>\n",
       "      <td>5</td>\n",
       "      <td>0</td>\n",
       "      <td>83</td>\n",
       "      <td>75 Years or older</td>\n",
       "      <td>1932</td>\n",
       "      <td>4182</td>\n",
       "      <td>836</td>\n",
       "    </tr>\n",
       "    <tr>\n",
       "      <th>1</th>\n",
       "      <td>0</td>\n",
       "      <td>2</td>\n",
       "      <td>0</td>\n",
       "      <td>77</td>\n",
       "      <td>75 Years or older</td>\n",
       "      <td>1938</td>\n",
       "      <td>1457</td>\n",
       "      <td>728</td>\n",
       "    </tr>\n",
       "    <tr>\n",
       "      <th>2</th>\n",
       "      <td>0</td>\n",
       "      <td>11</td>\n",
       "      <td>1</td>\n",
       "      <td>77</td>\n",
       "      <td>75 Years or older</td>\n",
       "      <td>1938</td>\n",
       "      <td>7645</td>\n",
       "      <td>695</td>\n",
       "    </tr>\n",
       "    <tr>\n",
       "      <th>3</th>\n",
       "      <td>0</td>\n",
       "      <td>11</td>\n",
       "      <td>1</td>\n",
       "      <td>76</td>\n",
       "      <td>75 Years or older</td>\n",
       "      <td>1939</td>\n",
       "      <td>4956</td>\n",
       "      <td>450</td>\n",
       "    </tr>\n",
       "    <tr>\n",
       "      <th>4</th>\n",
       "      <td>0</td>\n",
       "      <td>16</td>\n",
       "      <td>1</td>\n",
       "      <td>75</td>\n",
       "      <td>75 Years or older</td>\n",
       "      <td>1940</td>\n",
       "      <td>10131</td>\n",
       "      <td>633</td>\n",
       "    </tr>\n",
       "  </tbody>\n",
       "</table>\n",
       "</div>"
      ],
      "text/plain": [
       "   City  NumRecords  Gender  Age           AgeRange  YearOfBirth  \\\n",
       "0     0           5       0   83  75 Years or older         1932   \n",
       "1     0           2       0   77  75 Years or older         1938   \n",
       "2     0          11       1   77  75 Years or older         1938   \n",
       "3     0          11       1   76  75 Years or older         1939   \n",
       "4     0          16       1   75  75 Years or older         1940   \n",
       "\n",
       "   TotalDur_sec  AvgDur_sec  \n",
       "0          4182         836  \n",
       "1          1457         728  \n",
       "2          7645         695  \n",
       "3          4956         450  \n",
       "4         10131         633  "
      ]
     },
     "execution_count": 45,
     "metadata": {},
     "output_type": "execute_result"
    }
   ],
   "source": [
    "dsCity['Gender']=dsCity.Gender.map({'Female':0,'Male':1})\n",
    "dsCity['City']=dsCity.City.map({'Boston':0,'Chicago':1,'NYC':2})\n",
    "dsCity.head()"
   ]
  },
  {
   "cell_type": "code",
   "execution_count": 46,
   "metadata": {
    "collapsed": false
   },
   "outputs": [
    {
     "data": {
      "text/html": [
       "<div>\n",
       "<table border=\"1\" class=\"dataframe\">\n",
       "  <thead>\n",
       "    <tr style=\"text-align: right;\">\n",
       "      <th></th>\n",
       "      <th>NumRec</th>\n",
       "      <th>Gender</th>\n",
       "      <th>Age</th>\n",
       "      <th>AgeRange</th>\n",
       "      <th>YearOfBirth</th>\n",
       "      <th>TotalDur_sec</th>\n",
       "      <th>AvgDur_sec</th>\n",
       "    </tr>\n",
       "  </thead>\n",
       "  <tbody>\n",
       "    <tr>\n",
       "      <th>0</th>\n",
       "      <td>1</td>\n",
       "      <td>1</td>\n",
       "      <td>130</td>\n",
       "      <td>75 Years or older</td>\n",
       "      <td>1885</td>\n",
       "      <td>357</td>\n",
       "      <td>357</td>\n",
       "    </tr>\n",
       "    <tr>\n",
       "      <th>1</th>\n",
       "      <td>1</td>\n",
       "      <td>1</td>\n",
       "      <td>117</td>\n",
       "      <td>75 Years or older</td>\n",
       "      <td>1898</td>\n",
       "      <td>766</td>\n",
       "      <td>766</td>\n",
       "    </tr>\n",
       "    <tr>\n",
       "      <th>2</th>\n",
       "      <td>155</td>\n",
       "      <td>1</td>\n",
       "      <td>116</td>\n",
       "      <td>75 Years or older</td>\n",
       "      <td>1899</td>\n",
       "      <td>188945</td>\n",
       "      <td>1219</td>\n",
       "    </tr>\n",
       "    <tr>\n",
       "      <th>3</th>\n",
       "      <td>13</td>\n",
       "      <td>0</td>\n",
       "      <td>115</td>\n",
       "      <td>75 Years or older</td>\n",
       "      <td>1900</td>\n",
       "      <td>8976</td>\n",
       "      <td>690</td>\n",
       "    </tr>\n",
       "    <tr>\n",
       "      <th>4</th>\n",
       "      <td>806</td>\n",
       "      <td>1</td>\n",
       "      <td>115</td>\n",
       "      <td>75 Years or older</td>\n",
       "      <td>1900</td>\n",
       "      <td>867036</td>\n",
       "      <td>1075</td>\n",
       "    </tr>\n",
       "  </tbody>\n",
       "</table>\n",
       "</div>"
      ],
      "text/plain": [
       "   NumRec  Gender  Age           AgeRange  YearOfBirth  TotalDur_sec  \\\n",
       "0       1       1  130  75 Years or older         1885           357   \n",
       "1       1       1  117  75 Years or older         1898           766   \n",
       "2     155       1  116  75 Years or older         1899        188945   \n",
       "3      13       0  115  75 Years or older         1900          8976   \n",
       "4     806       1  115  75 Years or older         1900        867036   \n",
       "\n",
       "   AvgDur_sec  \n",
       "0         357  \n",
       "1         766  \n",
       "2        1219  \n",
       "3         690  \n",
       "4        1075  "
      ]
     },
     "execution_count": 46,
     "metadata": {},
     "output_type": "execute_result"
    }
   ],
   "source": [
    "dsBike['Gender']=dsBike.Gender.map({'Female':0,'Male':1})\n",
    "dsBike.head()"
   ]
  },
  {
   "cell_type": "code",
   "execution_count": 47,
   "metadata": {
    "collapsed": false
   },
   "outputs": [
    {
     "data": {
      "text/plain": [
       "<matplotlib.collections.PathCollection at 0x19a6c630>"
      ]
     },
     "execution_count": 47,
     "metadata": {},
     "output_type": "execute_result"
    },
    {
     "data": {
      "image/png": "[encoded data removed]",
      "text/plain": [
       "<matplotlib.figure.Figure at 0x19a27898>"
      ]
     },
     "metadata": {},
     "output_type": "display_data"
    }
   ],
   "source": [
    "plt.scatter(dsCity['Age'],dsCity['NumRecords'])"
   ]
  },
  {
   "cell_type": "code",
   "execution_count": 48,
   "metadata": {
    "collapsed": false
   },
   "outputs": [
    {
     "data": {
      "text/plain": [
       "<matplotlib.collections.PathCollection at 0x19d40828>"
      ]
     },
     "execution_count": 48,
     "metadata": {},
     "output_type": "execute_result"
    },
    {
     "data": {
      "image/png": "[encoded data removed]",
      "text/plain": [
       "<matplotlib.figure.Figure at 0x199cb278>"
      ]
     },
     "metadata": {},
     "output_type": "display_data"
    }
   ],
   "source": [
    "plt.scatter(dsBike['Age'],dsBike['NumRec'])"
   ]
  },
  {
   "cell_type": "code",
   "execution_count": 49,
   "metadata": {
    "collapsed": false
   },
   "outputs": [],
   "source": [
    "#plt.hist(dsCity['TotalDur_sec'], bins = 100)"
   ]
  },
  {
   "cell_type": "code",
   "execution_count": 50,
   "metadata": {
    "collapsed": true
   },
   "outputs": [],
   "source": [
    "Xbike=dsBike[['NumRec','Gender']]\n",
    "\n",
    "Ybike= dsBike[['Age']]"
   ]
  },
  {
   "cell_type": "markdown",
   "metadata": {},
   "source": [
    "### Perform Linear Regression"
   ]
  },
  {
   "cell_type": "code",
   "execution_count": 51,
   "metadata": {
    "collapsed": false
   },
   "outputs": [],
   "source": [
    "#Linear Reg at City level dataset/dataframe\n",
    "#linear_rgr =linear_model.LinearRegression()\n",
    "#linear_rgr.fit(X_train,y_train)\n",
    "\n",
    "#print(\"coefficient {}\".format(linear_rgr.coef_))\n",
    "#print(\"intercept {}\".format(linear_rgr.intercept_))\n",
    "#linear_MSE = mean_squared_error(y_test, linear_rgr.predict(X_test))\n",
    "#print('Mean squared error for liner regression by cities: {}'.format(linear_MSE))\n"
   ]
  },
  {
   "cell_type": "code",
   "execution_count": 52,
   "metadata": {
    "collapsed": false
   },
   "outputs": [
    {
     "name": "stdout",
     "output_type": "stream",
     "text": [
      "coefficient [[ -5.35287950e-04   2.06014451e+01]]\n",
      "intercept [ 58.83497684]\n",
      "Mean squared error for liner regression: 421.376481157\n"
     ]
    }
   ],
   "source": [
    "X_trainb, X_testb, y_trainb, y_testb = cross_validation.train_test_split(Xbike,Ybike,test_size=0.2,random_state=1)\n",
    "\n",
    "linear_rgrB =linear_model.LinearRegression()\n",
    "linear_rgrB.fit(X_trainb,y_trainb)\n",
    "\n",
    "print(\"coefficient {}\".format(linear_rgrB.coef_))\n",
    "print(\"intercept {}\".format(linear_rgrB.intercept_))\n",
    "linear_MSEb = mean_squared_error(y_testb, linear_rgrB.predict(X_testb))\n",
    "print('Mean squared error for liner regression: {}'.format(linear_MSEb))"
   ]
  },
  {
   "cell_type": "code",
   "execution_count": 53,
   "metadata": {
    "collapsed": false
   },
   "outputs": [
    {
     "name": "stdout",
     "output_type": "stream",
     "text": [
      "                            OLS Regression Results                            \n",
      "==============================================================================\n",
      "Dep. Variable:                    Age   R-squared:                       0.271\n",
      "Model:                            OLS   Adj. R-squared:                  0.266\n",
      "Method:                 Least Squares   F-statistic:                     57.66\n",
      "Date:                Mon, 16 Nov 2015   Prob (F-statistic):           2.74e-12\n",
      "Time:                        22:07:21   Log-Likelihood:                -711.02\n",
      "No. Observations:                 157   AIC:                             1426.\n",
      "Df Residuals:                     155   BIC:                             1432.\n",
      "Df Model:                           1                                         \n",
      "Covariance Type:            nonrobust                                         \n",
      "==============================================================================\n",
      "                 coef    std err          t      P>|t|      [95.0% Conf. Int.]\n",
      "------------------------------------------------------------------------------\n",
      "Intercept     66.9264      2.248     29.772      0.000        62.486    71.367\n",
      "NumRec        -0.0004   5.57e-05     -7.594      0.000        -0.001    -0.000\n",
      "==============================================================================\n",
      "Omnibus:                        1.762   Durbin-Watson:                   0.553\n",
      "Prob(Omnibus):                  0.414   Jarque-Bera (JB):                1.360\n",
      "Skew:                          -0.118   Prob(JB):                        0.507\n",
      "Kurtosis:                       3.389   Cond. No.                     5.04e+04\n",
      "==============================================================================\n",
      "\n",
      "Warnings:\n",
      "[1] Standard Errors assume that the covariance matrix of the errors is correctly specified.\n",
      "[2] The condition number is large, 5.04e+04. This might indicate that there are\n",
      "strong multicollinearity or other numerical problems.\n"
     ]
    }
   ],
   "source": [
    "import statsmodels.formula.api as sm\n",
    "\n",
    "model = sm.ols(formula='Age ~ NumRec', data=dsBike)\n",
    "results = model.fit()\n",
    "print(results.summary())"
   ]
  },
  {
   "cell_type": "markdown",
   "metadata": {},
   "source": [
    "###Perform Logistic Regression"
   ]
  },
  {
   "cell_type": "markdown",
   "metadata": {},
   "source": [
    "### Perform KNN"
   ]
  },
  {
   "cell_type": "code",
   "execution_count": 54,
   "metadata": {
    "collapsed": false
   },
   "outputs": [
    {
     "data": {
      "text/plain": [
       "[<matplotlib.lines.Line2D at 0x19bce908>,\n",
       " <matplotlib.lines.Line2D at 0x19bceb38>]"
      ]
     },
     "execution_count": 54,
     "metadata": {},
     "output_type": "execute_result"
    },
    {
     "data": {
      "image/png": "[encoded data removed]",
      "text/plain": [
       "<matplotlib.figure.Figure at 0x19b5b358>"
      ]
     },
     "metadata": {},
     "output_type": "display_data"
    }
   ],
   "source": [
    "from sklearn import neighbors\n",
    "knn = neighbors.KNeighborsRegressor()\n",
    "knn.fit(X_trainb,y_trainb)\n",
    "knn_b = knn.predict(X_testb)\n",
    "\n",
    "plt.plot(X_testb,knn_b,c='g',label='prediction')"
   ]
  },
  {
   "cell_type": "code",
   "execution_count": 55,
   "metadata": {
    "collapsed": true
   },
   "outputs": [],
   "source": [
    "temp = pd.get_dummies(dsBike, columns = ['AgeRange'])"
   ]
  },
  {
   "cell_type": "code",
   "execution_count": 56,
   "metadata": {
    "collapsed": false,
    "scrolled": true
   },
   "outputs": [
    {
     "data": {
      "text/html": [
       "<div>\n",
       "<table border=\"1\" class=\"dataframe\">\n",
       "  <thead>\n",
       "    <tr style=\"text-align: right;\">\n",
       "      <th></th>\n",
       "      <th>NumRec</th>\n",
       "      <th>Gender</th>\n",
       "      <th>Age</th>\n",
       "      <th>YearOfBirth</th>\n",
       "      <th>TotalDur_sec</th>\n",
       "      <th>AvgDur_sec</th>\n",
       "      <th>AgeRange_12-17 years old</th>\n",
       "      <th>AgeRange_18-24 years old</th>\n",
       "      <th>AgeRange_25-34 years old</th>\n",
       "      <th>AgeRange_35-44 years old</th>\n",
       "      <th>AgeRange_45-54 years old</th>\n",
       "      <th>AgeRange_55-64 years old</th>\n",
       "      <th>AgeRange_65-74 years old</th>\n",
       "      <th>AgeRange_75 Years or older</th>\n",
       "    </tr>\n",
       "  </thead>\n",
       "  <tbody>\n",
       "    <tr>\n",
       "      <th>137</th>\n",
       "      <td>34519</td>\n",
       "      <td>0</td>\n",
       "      <td>25</td>\n",
       "      <td>1990</td>\n",
       "      <td>29501893</td>\n",
       "      <td>854</td>\n",
       "      <td>0</td>\n",
       "      <td>0</td>\n",
       "      <td>1</td>\n",
       "      <td>0</td>\n",
       "      <td>0</td>\n",
       "      <td>0</td>\n",
       "      <td>0</td>\n",
       "      <td>0</td>\n",
       "    </tr>\n",
       "    <tr>\n",
       "      <th>138</th>\n",
       "      <td>94877</td>\n",
       "      <td>1</td>\n",
       "      <td>25</td>\n",
       "      <td>1990</td>\n",
       "      <td>65453986</td>\n",
       "      <td>689</td>\n",
       "      <td>0</td>\n",
       "      <td>0</td>\n",
       "      <td>1</td>\n",
       "      <td>0</td>\n",
       "      <td>0</td>\n",
       "      <td>0</td>\n",
       "      <td>0</td>\n",
       "      <td>0</td>\n",
       "    </tr>\n",
       "    <tr>\n",
       "      <th>139</th>\n",
       "      <td>25785</td>\n",
       "      <td>0</td>\n",
       "      <td>24</td>\n",
       "      <td>1991</td>\n",
       "      <td>21327350</td>\n",
       "      <td>827</td>\n",
       "      <td>0</td>\n",
       "      <td>1</td>\n",
       "      <td>0</td>\n",
       "      <td>0</td>\n",
       "      <td>0</td>\n",
       "      <td>0</td>\n",
       "      <td>0</td>\n",
       "      <td>0</td>\n",
       "    </tr>\n",
       "    <tr>\n",
       "      <th>140</th>\n",
       "      <td>65651</td>\n",
       "      <td>1</td>\n",
       "      <td>24</td>\n",
       "      <td>1991</td>\n",
       "      <td>46607724</td>\n",
       "      <td>709</td>\n",
       "      <td>0</td>\n",
       "      <td>1</td>\n",
       "      <td>0</td>\n",
       "      <td>0</td>\n",
       "      <td>0</td>\n",
       "      <td>0</td>\n",
       "      <td>0</td>\n",
       "      <td>0</td>\n",
       "    </tr>\n",
       "    <tr>\n",
       "      <th>141</th>\n",
       "      <td>16902</td>\n",
       "      <td>0</td>\n",
       "      <td>23</td>\n",
       "      <td>1992</td>\n",
       "      <td>13438980</td>\n",
       "      <td>795</td>\n",
       "      <td>0</td>\n",
       "      <td>1</td>\n",
       "      <td>0</td>\n",
       "      <td>0</td>\n",
       "      <td>0</td>\n",
       "      <td>0</td>\n",
       "      <td>0</td>\n",
       "      <td>0</td>\n",
       "    </tr>\n",
       "    <tr>\n",
       "      <th>142</th>\n",
       "      <td>38182</td>\n",
       "      <td>1</td>\n",
       "      <td>23</td>\n",
       "      <td>1992</td>\n",
       "      <td>25325204</td>\n",
       "      <td>663</td>\n",
       "      <td>0</td>\n",
       "      <td>1</td>\n",
       "      <td>0</td>\n",
       "      <td>0</td>\n",
       "      <td>0</td>\n",
       "      <td>0</td>\n",
       "      <td>0</td>\n",
       "      <td>0</td>\n",
       "    </tr>\n",
       "    <tr>\n",
       "      <th>143</th>\n",
       "      <td>8767</td>\n",
       "      <td>0</td>\n",
       "      <td>22</td>\n",
       "      <td>1993</td>\n",
       "      <td>6872118</td>\n",
       "      <td>783</td>\n",
       "      <td>0</td>\n",
       "      <td>1</td>\n",
       "      <td>0</td>\n",
       "      <td>0</td>\n",
       "      <td>0</td>\n",
       "      <td>0</td>\n",
       "      <td>0</td>\n",
       "      <td>0</td>\n",
       "    </tr>\n",
       "    <tr>\n",
       "      <th>144</th>\n",
       "      <td>23663</td>\n",
       "      <td>1</td>\n",
       "      <td>22</td>\n",
       "      <td>1993</td>\n",
       "      <td>15012151</td>\n",
       "      <td>634</td>\n",
       "      <td>0</td>\n",
       "      <td>1</td>\n",
       "      <td>0</td>\n",
       "      <td>0</td>\n",
       "      <td>0</td>\n",
       "      <td>0</td>\n",
       "      <td>0</td>\n",
       "      <td>0</td>\n",
       "    </tr>\n",
       "    <tr>\n",
       "      <th>145</th>\n",
       "      <td>4951</td>\n",
       "      <td>0</td>\n",
       "      <td>21</td>\n",
       "      <td>1994</td>\n",
       "      <td>3585130</td>\n",
       "      <td>724</td>\n",
       "      <td>0</td>\n",
       "      <td>1</td>\n",
       "      <td>0</td>\n",
       "      <td>0</td>\n",
       "      <td>0</td>\n",
       "      <td>0</td>\n",
       "      <td>0</td>\n",
       "      <td>0</td>\n",
       "    </tr>\n",
       "    <tr>\n",
       "      <th>146</th>\n",
       "      <td>18975</td>\n",
       "      <td>1</td>\n",
       "      <td>21</td>\n",
       "      <td>1994</td>\n",
       "      <td>11403200</td>\n",
       "      <td>600</td>\n",
       "      <td>0</td>\n",
       "      <td>1</td>\n",
       "      <td>0</td>\n",
       "      <td>0</td>\n",
       "      <td>0</td>\n",
       "      <td>0</td>\n",
       "      <td>0</td>\n",
       "      <td>0</td>\n",
       "    </tr>\n",
       "    <tr>\n",
       "      <th>147</th>\n",
       "      <td>2922</td>\n",
       "      <td>0</td>\n",
       "      <td>20</td>\n",
       "      <td>1995</td>\n",
       "      <td>2821387</td>\n",
       "      <td>965</td>\n",
       "      <td>0</td>\n",
       "      <td>1</td>\n",
       "      <td>0</td>\n",
       "      <td>0</td>\n",
       "      <td>0</td>\n",
       "      <td>0</td>\n",
       "      <td>0</td>\n",
       "      <td>0</td>\n",
       "    </tr>\n",
       "    <tr>\n",
       "      <th>148</th>\n",
       "      <td>12723</td>\n",
       "      <td>1</td>\n",
       "      <td>20</td>\n",
       "      <td>1995</td>\n",
       "      <td>7903008</td>\n",
       "      <td>621</td>\n",
       "      <td>0</td>\n",
       "      <td>1</td>\n",
       "      <td>0</td>\n",
       "      <td>0</td>\n",
       "      <td>0</td>\n",
       "      <td>0</td>\n",
       "      <td>0</td>\n",
       "      <td>0</td>\n",
       "    </tr>\n",
       "    <tr>\n",
       "      <th>149</th>\n",
       "      <td>2158</td>\n",
       "      <td>0</td>\n",
       "      <td>19</td>\n",
       "      <td>1996</td>\n",
       "      <td>1767642</td>\n",
       "      <td>819</td>\n",
       "      <td>0</td>\n",
       "      <td>1</td>\n",
       "      <td>0</td>\n",
       "      <td>0</td>\n",
       "      <td>0</td>\n",
       "      <td>0</td>\n",
       "      <td>0</td>\n",
       "      <td>0</td>\n",
       "    </tr>\n",
       "    <tr>\n",
       "      <th>150</th>\n",
       "      <td>5527</td>\n",
       "      <td>1</td>\n",
       "      <td>19</td>\n",
       "      <td>1996</td>\n",
       "      <td>4164618</td>\n",
       "      <td>753</td>\n",
       "      <td>0</td>\n",
       "      <td>1</td>\n",
       "      <td>0</td>\n",
       "      <td>0</td>\n",
       "      <td>0</td>\n",
       "      <td>0</td>\n",
       "      <td>0</td>\n",
       "      <td>0</td>\n",
       "    </tr>\n",
       "    <tr>\n",
       "      <th>151</th>\n",
       "      <td>1108</td>\n",
       "      <td>0</td>\n",
       "      <td>18</td>\n",
       "      <td>1997</td>\n",
       "      <td>927714</td>\n",
       "      <td>837</td>\n",
       "      <td>0</td>\n",
       "      <td>1</td>\n",
       "      <td>0</td>\n",
       "      <td>0</td>\n",
       "      <td>0</td>\n",
       "      <td>0</td>\n",
       "      <td>0</td>\n",
       "      <td>0</td>\n",
       "    </tr>\n",
       "    <tr>\n",
       "      <th>152</th>\n",
       "      <td>4891</td>\n",
       "      <td>1</td>\n",
       "      <td>18</td>\n",
       "      <td>1997</td>\n",
       "      <td>3533782</td>\n",
       "      <td>722</td>\n",
       "      <td>0</td>\n",
       "      <td>1</td>\n",
       "      <td>0</td>\n",
       "      <td>0</td>\n",
       "      <td>0</td>\n",
       "      <td>0</td>\n",
       "      <td>0</td>\n",
       "      <td>0</td>\n",
       "    </tr>\n",
       "    <tr>\n",
       "      <th>153</th>\n",
       "      <td>893</td>\n",
       "      <td>0</td>\n",
       "      <td>17</td>\n",
       "      <td>1998</td>\n",
       "      <td>766614</td>\n",
       "      <td>858</td>\n",
       "      <td>1</td>\n",
       "      <td>0</td>\n",
       "      <td>0</td>\n",
       "      <td>0</td>\n",
       "      <td>0</td>\n",
       "      <td>0</td>\n",
       "      <td>0</td>\n",
       "      <td>0</td>\n",
       "    </tr>\n",
       "    <tr>\n",
       "      <th>154</th>\n",
       "      <td>3176</td>\n",
       "      <td>1</td>\n",
       "      <td>17</td>\n",
       "      <td>1998</td>\n",
       "      <td>2406134</td>\n",
       "      <td>757</td>\n",
       "      <td>1</td>\n",
       "      <td>0</td>\n",
       "      <td>0</td>\n",
       "      <td>0</td>\n",
       "      <td>0</td>\n",
       "      <td>0</td>\n",
       "      <td>0</td>\n",
       "      <td>0</td>\n",
       "    </tr>\n",
       "    <tr>\n",
       "      <th>155</th>\n",
       "      <td>30</td>\n",
       "      <td>0</td>\n",
       "      <td>16</td>\n",
       "      <td>1999</td>\n",
       "      <td>19152</td>\n",
       "      <td>638</td>\n",
       "      <td>1</td>\n",
       "      <td>0</td>\n",
       "      <td>0</td>\n",
       "      <td>0</td>\n",
       "      <td>0</td>\n",
       "      <td>0</td>\n",
       "      <td>0</td>\n",
       "      <td>0</td>\n",
       "    </tr>\n",
       "    <tr>\n",
       "      <th>156</th>\n",
       "      <td>808</td>\n",
       "      <td>1</td>\n",
       "      <td>16</td>\n",
       "      <td>1999</td>\n",
       "      <td>516434</td>\n",
       "      <td>639</td>\n",
       "      <td>1</td>\n",
       "      <td>0</td>\n",
       "      <td>0</td>\n",
       "      <td>0</td>\n",
       "      <td>0</td>\n",
       "      <td>0</td>\n",
       "      <td>0</td>\n",
       "      <td>0</td>\n",
       "    </tr>\n",
       "  </tbody>\n",
       "</table>\n",
       "</div>"
      ],
      "text/plain": [
       "     NumRec  Gender  Age  YearOfBirth  TotalDur_sec  AvgDur_sec  \\\n",
       "137   34519       0   25         1990      29501893         854   \n",
       "138   94877       1   25         1990      65453986         689   \n",
       "139   25785       0   24         1991      21327350         827   \n",
       "140   65651       1   24         1991      46607724         709   \n",
       "141   16902       0   23         1992      13438980         795   \n",
       "142   38182       1   23         1992      25325204         663   \n",
       "143    8767       0   22         1993       6872118         783   \n",
       "144   23663       1   22         1993      15012151         634   \n",
       "145    4951       0   21         1994       3585130         724   \n",
       "146   18975       1   21         1994      11403200         600   \n",
       "147    2922       0   20         1995       2821387         965   \n",
       "148   12723       1   20         1995       7903008         621   \n",
       "149    2158       0   19         1996       1767642         819   \n",
       "150    5527       1   19         1996       4164618         753   \n",
       "151    1108       0   18         1997        927714         837   \n",
       "152    4891       1   18         1997       3533782         722   \n",
       "153     893       0   17         1998        766614         858   \n",
       "154    3176       1   17         1998       2406134         757   \n",
       "155      30       0   16         1999         19152         638   \n",
       "156     808       1   16         1999        516434         639   \n",
       "\n",
       "     AgeRange_12-17 years old  AgeRange_18-24 years old  \\\n",
       "137                         0                         0   \n",
       "138                         0                         0   \n",
       "139                         0                         1   \n",
       "140                         0                         1   \n",
       "141                         0                         1   \n",
       "142                         0                         1   \n",
       "143                         0                         1   \n",
       "144                         0                         1   \n",
       "145                         0                         1   \n",
       "146                         0                         1   \n",
       "147                         0                         1   \n",
       "148                         0                         1   \n",
       "149                         0                         1   \n",
       "150                         0                         1   \n",
       "151                         0                         1   \n",
       "152                         0                         1   \n",
       "153                         1                         0   \n",
       "154                         1                         0   \n",
       "155                         1                         0   \n",
       "156                         1                         0   \n",
       "\n",
       "     AgeRange_25-34 years old  AgeRange_35-44 years old  \\\n",
       "137                         1                         0   \n",
       "138                         1                         0   \n",
       "139                         0                         0   \n",
       "140                         0                         0   \n",
       "141                         0                         0   \n",
       "142                         0                         0   \n",
       "143                         0                         0   \n",
       "144                         0                         0   \n",
       "145                         0                         0   \n",
       "146                         0                         0   \n",
       "147                         0                         0   \n",
       "148                         0                         0   \n",
       "149                         0                         0   \n",
       "150                         0                         0   \n",
       "151                         0                         0   \n",
       "152                         0                         0   \n",
       "153                         0                         0   \n",
       "154                         0                         0   \n",
       "155                         0                         0   \n",
       "156                         0                         0   \n",
       "\n",
       "     AgeRange_45-54 years old  AgeRange_55-64 years old  \\\n",
       "137                         0                         0   \n",
       "138                         0                         0   \n",
       "139                         0                         0   \n",
       "140                         0                         0   \n",
       "141                         0                         0   \n",
       "142                         0                         0   \n",
       "143                         0                         0   \n",
       "144                         0                         0   \n",
       "145                         0                         0   \n",
       "146                         0                         0   \n",
       "147                         0                         0   \n",
       "148                         0                         0   \n",
       "149                         0                         0   \n",
       "150                         0                         0   \n",
       "151                         0                         0   \n",
       "152                         0                         0   \n",
       "153                         0                         0   \n",
       "154                         0                         0   \n",
       "155                         0                         0   \n",
       "156                         0                         0   \n",
       "\n",
       "     AgeRange_65-74 years old  AgeRange_75 Years or older  \n",
       "137                         0                           0  \n",
       "138                         0                           0  \n",
       "139                         0                           0  \n",
       "140                         0                           0  \n",
       "141                         0                           0  \n",
       "142                         0                           0  \n",
       "143                         0                           0  \n",
       "144                         0                           0  \n",
       "145                         0                           0  \n",
       "146                         0                           0  \n",
       "147                         0                           0  \n",
       "148                         0                           0  \n",
       "149                         0                           0  \n",
       "150                         0                           0  \n",
       "151                         0                           0  \n",
       "152                         0                           0  \n",
       "153                         0                           0  \n",
       "154                         0                           0  \n",
       "155                         0                           0  \n",
       "156                         0                           0  "
      ]
     },
     "execution_count": 56,
     "metadata": {},
     "output_type": "execute_result"
    }
   ],
   "source": [
    "temp.tail(20)"
   ]
  },
  {
   "cell_type": "code",
   "execution_count": 19,
   "metadata": {
    "collapsed": false
   },
   "outputs": [
    {
     "data": {
      "text/plain": [
       "['NumRec',\n",
       " 'Gender',\n",
       " 'Age',\n",
       " 'YearOfBirth',\n",
       " 'TotalDur_sec',\n",
       " 'AvgDur_sec',\n",
       " 'AgeRange_12-17 years old',\n",
       " 'AgeRange_18-24 years old',\n",
       " 'AgeRange_25-34 years old',\n",
       " 'AgeRange_35-44 years old',\n",
       " 'AgeRange_45-54 years old',\n",
       " 'AgeRange_55-64 years old',\n",
       " 'AgeRange_65-74 years old',\n",
       " 'AgeRange_75 Years or older']"
      ]
     },
     "execution_count": 19,
     "metadata": {},
     "output_type": "execute_result"
    }
   ],
   "source": [
    "list(temp)"
   ]
  },
  {
   "cell_type": "code",
   "execution_count": 20,
   "metadata": {
    "collapsed": true
   },
   "outputs": [],
   "source": [
    "Xtemp= temp[['AgeRange_12-17 years old',\n",
    " 'AgeRange_18-24 years old',\n",
    " 'AgeRange_25-34 years old',\n",
    " 'AgeRange_35-44 years old',\n",
    " 'AgeRange_45-54 years old',\n",
    " 'AgeRange_55-64 years old',\n",
    " 'AgeRange_65-74 years old',\n",
    " 'AgeRange_75 Years or older',\n",
    " 'Gender']]\n",
    "ytemp=temp[['NumRec']]"
   ]
  },
  {
   "cell_type": "code",
   "execution_count": 21,
   "metadata": {
    "collapsed": false
   },
   "outputs": [],
   "source": [
    "X_train, X_test, y_train, y_test = cross_validation.train_test_split(Xtemp, ytemp, random_state=1)"
   ]
  },
  {
   "cell_type": "code",
   "execution_count": 22,
   "metadata": {
    "collapsed": false
   },
   "outputs": [
    {
     "data": {
      "text/plain": [
       "(117, 1)"
      ]
     },
     "execution_count": 22,
     "metadata": {},
     "output_type": "execute_result"
    }
   ],
   "source": [
    "y_train.shape"
   ]
  },
  {
   "cell_type": "code",
   "execution_count": 23,
   "metadata": {
    "collapsed": false
   },
   "outputs": [
    {
     "data": {
      "text/plain": [
       "(40, 9)"
      ]
     },
     "execution_count": 23,
     "metadata": {},
     "output_type": "execute_result"
    }
   ],
   "source": [
    "X_test.shape"
   ]
  },
  {
   "cell_type": "code",
   "execution_count": 24,
   "metadata": {
    "collapsed": false
   },
   "outputs": [
    {
     "name": "stdout",
     "output_type": "stream",
     "text": [
      "0.025\n"
     ]
    }
   ],
   "source": [
    "#Try a Logistic regression.\n",
    "from sklearn.linear_model import LogisticRegression\n",
    "\n",
    "lr_rgr = LogisticRegression()\n",
    "lr_rgr.fit(X_train, y_train['NumRec'])\n",
    "y_pred_lr = lr_rgr.predict(X_test)\n",
    "print(accuracy_score(y_test,y_pred_lr))"
   ]
  },
  {
   "cell_type": "code",
   "execution_count": 25,
   "metadata": {
    "collapsed": false
   },
   "outputs": [
    {
     "name": "stdout",
     "output_type": "stream",
     "text": [
      "Training Score: 0.153846153846\n",
      "Test Score: 0.0\n"
     ]
    }
   ],
   "source": [
    "#try a Decision Tree Classifier and find feature importance\n",
    "\n",
    "ctree = tree.DecisionTreeClassifier()\n",
    "ctree = ctree.fit(X_train, y_train)\n",
    "y_pred=ctree.predict(X_test)\n",
    "print(\"Training Score: {}\".format(ctree.score(X_train, y_train)))\n",
    "print(\"Test Score: {}\".format(ctree.score(X_test, y_test)))"
   ]
  },
  {
   "cell_type": "code",
   "execution_count": 26,
   "metadata": {
    "collapsed": false
   },
   "outputs": [
    {
     "name": "stdout",
     "output_type": "stream",
     "text": [
      "Feature ranking:\n",
      "1 feature 6, AgeRange_12-17 years old, (0.130325814536)\n",
      "2 feature 5, AgeRange_18-24 years old, (0.130325814536)\n",
      "3 feature 4, AgeRange_25-34 years old, (0.130325814536)\n",
      "4 feature 2, AgeRange_35-44 years old, (0.130325814536)\n",
      "5 feature 1, AgeRange_45-54 years old, (0.130325814536)\n",
      "6 feature 8, AgeRange_55-64 years old, (0.12507074137)\n",
      "7 feature 7, AgeRange_65-74 years old, (0.0929743714124)\n",
      "8 feature 3, AgeRange_75 Years or older, (0.0651629072682)\n",
      "9 feature 0, Gender, (0.0651629072682)\n"
     ]
    }
   ],
   "source": [
    "importances = ctree.feature_importances_\n",
    "indices = np.argsort(importances)[::-1]\n",
    "\n",
    "# Print the feature ranking\n",
    "print(\"Feature ranking:\")\n",
    "\n",
    "for f in range(9):\n",
    "    print(\"{} feature {}, {}, ({})\".format(f + 1, indices[f], X_test.columns[f], importances[indices[f]]))"
   ]
  },
  {
   "cell_type": "code",
   "execution_count": 27,
   "metadata": {
    "collapsed": false
   },
   "outputs": [
    {
     "name": "stdout",
     "output_type": "stream",
     "text": [
      "Training Score: 0.153846153846\n",
      "Test Score: 0.0\n"
     ]
    }
   ],
   "source": [
    "#features = [\n",
    "#'AgeRange_12-17 years old',\n",
    "# 'AgeRange_18-24 years old',\n",
    "# 'AgeRange_25-34 years old',\n",
    "# 'AgeRange_35-44 years old',\n",
    "# 'AgeRange_45-54 years old',\n",
    "# 'AgeRange_55-64 years old',\n",
    "# 'AgeRange_65-74 years old',\n",
    "# 'AgeRange_75 Years or older'\n",
    "#]\n",
    "rgr = RandomForestClassifier()\n",
    "rgr.fit(X_train,y_train['NumRec'])\n",
    "y_pred = rgr.predict(X_test)\n",
    "print(\"Training Score: {}\".format(rgr.score(X_train, y_train)))\n",
    "print(\"Test Score: {}\".format(rgr.score(X_test, y_test)))"
   ]
  },
  {
   "cell_type": "code",
   "execution_count": 59,
   "metadata": {
    "collapsed": false,
    "scrolled": true
   },
   "outputs": [
    {
     "name": "stdout",
     "output_type": "stream",
     "text": [
      "Feature ranking:\n",
      "1 feature 8, AgeRange_12-17 years old, (0.409259230217)\n",
      "2 feature 7, AgeRange_18-24 years old, (0.0910905667904)\n",
      "3 feature 5, AgeRange_25-34 years old, (0.0863211856517)\n",
      "4 feature 4, AgeRange_35-44 years old, (0.0790527569955)\n",
      "5 feature 1, AgeRange_45-54 years old, (0.0695289742127)\n",
      "6 feature 6, AgeRange_55-64 years old, (0.069142827207)\n",
      "7 feature 0, AgeRange_65-74 years old, (0.0657501070518)\n",
      "8 feature 3, AgeRange_75 Years or older, (0.0656600423289)\n",
      "9 feature 2, Gender, (0.0641943095453)\n"
     ]
    }
   ],
   "source": [
    "importances = rgr.feature_importances_\n",
    "indices = np.argsort(importances)[::-1]\n",
    "\n",
    "# Print the feature ranking\n",
    "print(\"Feature ranking:\")\n",
    "\n",
    "for f in range(9):\n",
    "    print(\"{} feature {}, {}, ({})\".format(f + 1, indices[f], X_test.columns[f], importances[indices[f]]))"
   ]
  },
  {
   "cell_type": "code",
   "execution_count": 28,
   "metadata": {
    "collapsed": false
   },
   "outputs": [
    {
     "data": {
      "text/html": [
       "<div>\n",
       "<table border=\"1\" class=\"dataframe\">\n",
       "  <thead>\n",
       "    <tr style=\"text-align: right;\">\n",
       "      <th></th>\n",
       "      <th>City</th>\n",
       "      <th>NumRecords</th>\n",
       "      <th>Gender</th>\n",
       "      <th>Age</th>\n",
       "      <th>AgeRange</th>\n",
       "      <th>YearOfBirth</th>\n",
       "      <th>TotalDur_sec</th>\n",
       "      <th>AvgDur_sec</th>\n",
       "    </tr>\n",
       "  </thead>\n",
       "  <tbody>\n",
       "    <tr>\n",
       "      <th>241</th>\n",
       "      <td>NYC</td>\n",
       "      <td>1</td>\n",
       "      <td>Male</td>\n",
       "      <td>130</td>\n",
       "      <td>75 Years or older</td>\n",
       "      <td>1885</td>\n",
       "      <td>357</td>\n",
       "      <td>357</td>\n",
       "    </tr>\n",
       "    <tr>\n",
       "      <th>242</th>\n",
       "      <td>NYC</td>\n",
       "      <td>154</td>\n",
       "      <td>Male</td>\n",
       "      <td>116</td>\n",
       "      <td>75 Years or older</td>\n",
       "      <td>1899</td>\n",
       "      <td>187181</td>\n",
       "      <td>1215</td>\n",
       "    </tr>\n",
       "    <tr>\n",
       "      <th>243</th>\n",
       "      <td>NYC</td>\n",
       "      <td>13</td>\n",
       "      <td>Female</td>\n",
       "      <td>115</td>\n",
       "      <td>75 Years or older</td>\n",
       "      <td>1900</td>\n",
       "      <td>8976</td>\n",
       "      <td>690</td>\n",
       "    </tr>\n",
       "    <tr>\n",
       "      <th>244</th>\n",
       "      <td>NYC</td>\n",
       "      <td>681</td>\n",
       "      <td>Male</td>\n",
       "      <td>115</td>\n",
       "      <td>75 Years or older</td>\n",
       "      <td>1900</td>\n",
       "      <td>763337</td>\n",
       "      <td>1120</td>\n",
       "    </tr>\n",
       "    <tr>\n",
       "      <th>245</th>\n",
       "      <td>NYC</td>\n",
       "      <td>3</td>\n",
       "      <td>Female</td>\n",
       "      <td>114</td>\n",
       "      <td>75 Years or older</td>\n",
       "      <td>1901</td>\n",
       "      <td>27896</td>\n",
       "      <td>9298</td>\n",
       "    </tr>\n",
       "  </tbody>\n",
       "</table>\n",
       "</div>"
      ],
      "text/plain": [
       "    City  NumRecords  Gender  Age           AgeRange  YearOfBirth  \\\n",
       "241  NYC           1    Male  130  75 Years or older         1885   \n",
       "242  NYC         154    Male  116  75 Years or older         1899   \n",
       "243  NYC          13  Female  115  75 Years or older         1900   \n",
       "244  NYC         681    Male  115  75 Years or older         1900   \n",
       "245  NYC           3  Female  114  75 Years or older         1901   \n",
       "\n",
       "     TotalDur_sec  AvgDur_sec  \n",
       "241           357         357  \n",
       "242        187181        1215  \n",
       "243          8976         690  \n",
       "244        763337        1120  \n",
       "245         27896        9298  "
      ]
     },
     "execution_count": 28,
     "metadata": {},
     "output_type": "execute_result"
    }
   ],
   "source": [
    "dsNYC.head()"
   ]
  },
  {
   "cell_type": "code",
   "execution_count": 29,
   "metadata": {
    "collapsed": true
   },
   "outputs": [],
   "source": [
    "NYCtemp = pd.get_dummies(dsNYC, columns = ['AgeRange'])"
   ]
  },
  {
   "cell_type": "code",
   "execution_count": 35,
   "metadata": {
    "collapsed": false
   },
   "outputs": [
    {
     "data": {
      "text/html": [
       "<div>\n",
       "<table border=\"1\" class=\"dataframe\">\n",
       "  <thead>\n",
       "    <tr style=\"text-align: right;\">\n",
       "      <th></th>\n",
       "      <th>City</th>\n",
       "      <th>NumRecords</th>\n",
       "      <th>Gender</th>\n",
       "      <th>Age</th>\n",
       "      <th>YearOfBirth</th>\n",
       "      <th>TotalDur_sec</th>\n",
       "      <th>AvgDur_sec</th>\n",
       "      <th>AgeRange_12-17 years old</th>\n",
       "      <th>AgeRange_18-24 years old</th>\n",
       "      <th>AgeRange_25-34 years old</th>\n",
       "      <th>AgeRange_35-44 years old</th>\n",
       "      <th>AgeRange_45-54 years old</th>\n",
       "      <th>AgeRange_55-64 years old</th>\n",
       "      <th>AgeRange_65-74 years old</th>\n",
       "      <th>AgeRange_75 Years or older</th>\n",
       "    </tr>\n",
       "  </thead>\n",
       "  <tbody>\n",
       "    <tr>\n",
       "      <th>241</th>\n",
       "      <td>NYC</td>\n",
       "      <td>1</td>\n",
       "      <td>1</td>\n",
       "      <td>130</td>\n",
       "      <td>1885</td>\n",
       "      <td>357</td>\n",
       "      <td>357</td>\n",
       "      <td>0</td>\n",
       "      <td>0</td>\n",
       "      <td>0</td>\n",
       "      <td>0</td>\n",
       "      <td>0</td>\n",
       "      <td>0</td>\n",
       "      <td>0</td>\n",
       "      <td>1</td>\n",
       "    </tr>\n",
       "    <tr>\n",
       "      <th>242</th>\n",
       "      <td>NYC</td>\n",
       "      <td>154</td>\n",
       "      <td>1</td>\n",
       "      <td>116</td>\n",
       "      <td>1899</td>\n",
       "      <td>187181</td>\n",
       "      <td>1215</td>\n",
       "      <td>0</td>\n",
       "      <td>0</td>\n",
       "      <td>0</td>\n",
       "      <td>0</td>\n",
       "      <td>0</td>\n",
       "      <td>0</td>\n",
       "      <td>0</td>\n",
       "      <td>1</td>\n",
       "    </tr>\n",
       "    <tr>\n",
       "      <th>243</th>\n",
       "      <td>NYC</td>\n",
       "      <td>13</td>\n",
       "      <td>0</td>\n",
       "      <td>115</td>\n",
       "      <td>1900</td>\n",
       "      <td>8976</td>\n",
       "      <td>690</td>\n",
       "      <td>0</td>\n",
       "      <td>0</td>\n",
       "      <td>0</td>\n",
       "      <td>0</td>\n",
       "      <td>0</td>\n",
       "      <td>0</td>\n",
       "      <td>0</td>\n",
       "      <td>1</td>\n",
       "    </tr>\n",
       "    <tr>\n",
       "      <th>244</th>\n",
       "      <td>NYC</td>\n",
       "      <td>681</td>\n",
       "      <td>1</td>\n",
       "      <td>115</td>\n",
       "      <td>1900</td>\n",
       "      <td>763337</td>\n",
       "      <td>1120</td>\n",
       "      <td>0</td>\n",
       "      <td>0</td>\n",
       "      <td>0</td>\n",
       "      <td>0</td>\n",
       "      <td>0</td>\n",
       "      <td>0</td>\n",
       "      <td>0</td>\n",
       "      <td>1</td>\n",
       "    </tr>\n",
       "    <tr>\n",
       "      <th>245</th>\n",
       "      <td>NYC</td>\n",
       "      <td>3</td>\n",
       "      <td>0</td>\n",
       "      <td>114</td>\n",
       "      <td>1901</td>\n",
       "      <td>27896</td>\n",
       "      <td>9298</td>\n",
       "      <td>0</td>\n",
       "      <td>0</td>\n",
       "      <td>0</td>\n",
       "      <td>0</td>\n",
       "      <td>0</td>\n",
       "      <td>0</td>\n",
       "      <td>0</td>\n",
       "      <td>1</td>\n",
       "    </tr>\n",
       "  </tbody>\n",
       "</table>\n",
       "</div>"
      ],
      "text/plain": [
       "    City  NumRecords  Gender  Age  YearOfBirth  TotalDur_sec  AvgDur_sec  \\\n",
       "241  NYC           1       1  130         1885           357         357   \n",
       "242  NYC         154       1  116         1899        187181        1215   \n",
       "243  NYC          13       0  115         1900          8976         690   \n",
       "244  NYC         681       1  115         1900        763337        1120   \n",
       "245  NYC           3       0  114         1901         27896        9298   \n",
       "\n",
       "     AgeRange_12-17 years old  AgeRange_18-24 years old  \\\n",
       "241                         0                         0   \n",
       "242                         0                         0   \n",
       "243                         0                         0   \n",
       "244                         0                         0   \n",
       "245                         0                         0   \n",
       "\n",
       "     AgeRange_25-34 years old  AgeRange_35-44 years old  \\\n",
       "241                         0                         0   \n",
       "242                         0                         0   \n",
       "243                         0                         0   \n",
       "244                         0                         0   \n",
       "245                         0                         0   \n",
       "\n",
       "     AgeRange_45-54 years old  AgeRange_55-64 years old  \\\n",
       "241                         0                         0   \n",
       "242                         0                         0   \n",
       "243                         0                         0   \n",
       "244                         0                         0   \n",
       "245                         0                         0   \n",
       "\n",
       "     AgeRange_65-74 years old  AgeRange_75 Years or older  \n",
       "241                         0                           1  \n",
       "242                         0                           1  \n",
       "243                         0                           1  \n",
       "244                         0                           1  \n",
       "245                         0                           1  "
      ]
     },
     "execution_count": 35,
     "metadata": {},
     "output_type": "execute_result"
    }
   ],
   "source": [
    "NYCtemp['Gender']=NYCtemp.Gender.map({'Female':0,'Male':1})\n",
    "NYCtemp.head()"
   ]
  },
  {
   "cell_type": "code",
   "execution_count": 36,
   "metadata": {
    "collapsed": false
   },
   "outputs": [],
   "source": [
    "XtempNYC= NYCtemp[['AgeRange_12-17 years old',\n",
    " 'AgeRange_18-24 years old',\n",
    " 'AgeRange_25-34 years old',\n",
    " 'AgeRange_35-44 years old',\n",
    " 'AgeRange_45-54 years old',\n",
    " 'AgeRange_55-64 years old',\n",
    " 'AgeRange_65-74 years old',\n",
    " 'AgeRange_75 Years or older',\n",
    " 'Gender']]\n",
    "ytempNYC=NYCtemp[['NumRecords']]"
   ]
  },
  {
   "cell_type": "code",
   "execution_count": 37,
   "metadata": {
    "collapsed": true
   },
   "outputs": [],
   "source": [
    "X_train, X_test, y_train, y_test = cross_validation.train_test_split(XtempNYC, ytempNYC, random_state=1)"
   ]
  },
  {
   "cell_type": "code",
   "execution_count": 38,
   "metadata": {
    "collapsed": false
   },
   "outputs": [
    {
     "name": "stdout",
     "output_type": "stream",
     "text": [
      "0.0\n"
     ]
    }
   ],
   "source": [
    "nlr_rgr = LogisticRegression()\n",
    "nlr_rgr.fit(X_train, y_train['NumRecords'])\n",
    "y_pred_nlr = nlr_rgr.predict(X_test)\n",
    "print(accuracy_score(y_test,y_pred_nlr))"
   ]
  },
  {
   "cell_type": "code",
   "execution_count": null,
   "metadata": {
    "collapsed": true
   },
   "outputs": [],
   "source": []
  }
 ],
 "metadata": {
  "kernelspec": {
   "display_name": "Python 2",
   "language": "python",
   "name": "python2"
  },
  "language_info": {
   "codemirror_mode": {
    "name": "ipython",
    "version": 2
   },
   "file_extension": ".py",
   "mimetype": "text/x-python",
   "name": "python",
   "nbconvert_exporter": "python",
   "pygments_lexer": "ipython2",
   "version": "2.7.10"
  }
 },
 "nbformat": 4,
 "nbformat_minor": 0
}
