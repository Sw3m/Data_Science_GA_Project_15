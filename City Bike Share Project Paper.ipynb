{
 "cells": [
  {
   "cell_type": "markdown",
   "metadata": {},
   "source": [
    "# City Bike Share Analysis\n",
    "\n"
   ]
  },
  {
   "cell_type": "markdown",
   "metadata": {},
   "source": [
    "# # Project Summary\n",
    "\n",
    "###Problem Statement\n",
    "\n",
    "###What is the likelihood that a Bike Share program will succeed in the City of Atlanta? \n",
    "By using bike share data from other US cities, I want to be able to analyze the popularity and trends of bike shares amongst females and males of different ages. \n",
    "\n"
   ]
  },
  {
   "cell_type": "markdown",
   "metadata": {},
   "source": [
    "## Description of Data and Collection method\n",
    "\n",
    "CSV Files of Open Dataset for:\n",
    "*Chicago Q1 & Q2 2015\n",
    "*Boston 2011 to 2013\n",
    "*NYC Jan 2015 to Jul 2015\n",
    "\n",
    "Files Contain:\n",
    "Gender\n",
    "Year of Birth\n",
    "Trip date and time\n",
    "Duration of Trip\n",
    "\n",
    "###Transformation and data aggregation description:\n",
    "I loaded data for Chicago and Boston into a single table (via MS Sql Server Express), where the total volume is ~1.2 M records.In order to conform data to a standard gender code, I updated the gender for each record to \"Female\" and \"Male\" values.\n",
    "The data was then aggregrated by sum of duration , grouped by city,gender and age. The aggregrated data was outputted to a CSV file for use in cross validation and model use.\n"
   ]
  },
  {
   "cell_type": "markdown",
   "metadata": {},
   "source": [
    "  "
   ]
  },
  {
   "cell_type": "code",
   "execution_count": 37,
   "metadata": {
    "collapsed": true
   },
   "outputs": [],
   "source": [
    "import pandas as pd\n",
    "import numpy as np\n",
    "import matplotlib.pyplot as plt\n",
    "from sklearn import linear_model\n",
    "from sklearn.linear_model import Lasso\n",
    "from sklearn.linear_model import Ridge\n",
    "from sklearn.preprocessing import StandardScaler\n",
    "from sklearn import cross_validation\n",
    "from sklearn.metrics import mean_squared_error\n",
    "from sklearn import grid_search\n",
    "%matplotlib inline\n",
    "\n"
   ]
  },
  {
   "cell_type": "code",
   "execution_count": 38,
   "metadata": {
    "collapsed": false
   },
   "outputs": [],
   "source": [
    "dsCity= pd.read_csv('https://raw.githubusercontent.com/Sw3m/Data_Science_GA_Project_15/master/Datasets/CityBikeShareExtract.csv')"
   ]
  },
  {
   "cell_type": "code",
   "execution_count": 39,
   "metadata": {
    "collapsed": false
   },
   "outputs": [
    {
     "data": {
      "text/html": [
       "<div>\n",
       "<table border=\"1\" class=\"dataframe\">\n",
       "  <thead>\n",
       "    <tr style=\"text-align: right;\">\n",
       "      <th></th>\n",
       "      <th>City</th>\n",
       "      <th>NumRecords</th>\n",
       "      <th>Gender</th>\n",
       "      <th>Age</th>\n",
       "      <th>YearOfBirth</th>\n",
       "      <th>TotalDur_sec</th>\n",
       "      <th>AvgDur_sec</th>\n",
       "    </tr>\n",
       "  </thead>\n",
       "  <tbody>\n",
       "    <tr>\n",
       "      <th>0</th>\n",
       "      <td>Boston</td>\n",
       "      <td>5</td>\n",
       "      <td>Female</td>\n",
       "      <td>83</td>\n",
       "      <td>1932</td>\n",
       "      <td>4182</td>\n",
       "      <td>836</td>\n",
       "    </tr>\n",
       "    <tr>\n",
       "      <th>1</th>\n",
       "      <td>Boston</td>\n",
       "      <td>2</td>\n",
       "      <td>Female</td>\n",
       "      <td>77</td>\n",
       "      <td>1938</td>\n",
       "      <td>1457</td>\n",
       "      <td>728</td>\n",
       "    </tr>\n",
       "    <tr>\n",
       "      <th>2</th>\n",
       "      <td>Boston</td>\n",
       "      <td>11</td>\n",
       "      <td>Male</td>\n",
       "      <td>77</td>\n",
       "      <td>1938</td>\n",
       "      <td>7645</td>\n",
       "      <td>695</td>\n",
       "    </tr>\n",
       "    <tr>\n",
       "      <th>3</th>\n",
       "      <td>Boston</td>\n",
       "      <td>11</td>\n",
       "      <td>Male</td>\n",
       "      <td>76</td>\n",
       "      <td>1939</td>\n",
       "      <td>4956</td>\n",
       "      <td>450</td>\n",
       "    </tr>\n",
       "    <tr>\n",
       "      <th>4</th>\n",
       "      <td>Boston</td>\n",
       "      <td>16</td>\n",
       "      <td>Male</td>\n",
       "      <td>75</td>\n",
       "      <td>1940</td>\n",
       "      <td>10131</td>\n",
       "      <td>633</td>\n",
       "    </tr>\n",
       "  </tbody>\n",
       "</table>\n",
       "</div>"
      ],
      "text/plain": [
       "     City  NumRecords  Gender  Age  YearOfBirth  TotalDur_sec  AvgDur_sec\n",
       "0  Boston           5  Female   83         1932          4182         836\n",
       "1  Boston           2  Female   77         1938          1457         728\n",
       "2  Boston          11    Male   77         1938          7645         695\n",
       "3  Boston          11    Male   76         1939          4956         450\n",
       "4  Boston          16    Male   75         1940         10131         633"
      ]
     },
     "execution_count": 39,
     "metadata": {},
     "output_type": "execute_result"
    }
   ],
   "source": [
    "dsCity.head()"
   ]
  },
  {
   "cell_type": "code",
   "execution_count": 40,
   "metadata": {
    "collapsed": false
   },
   "outputs": [],
   "source": [
    "dsBoston = dsCity[dsCity['City']=='Boston']\n",
    "dsChicago = dsCity[dsCity['City']=='Chicago']"
   ]
  },
  {
   "cell_type": "code",
   "execution_count": 41,
   "metadata": {
    "collapsed": false
   },
   "outputs": [
    {
     "data": {
      "text/html": [
       "<div>\n",
       "<table border=\"1\" class=\"dataframe\">\n",
       "  <thead>\n",
       "    <tr style=\"text-align: right;\">\n",
       "      <th></th>\n",
       "      <th>City</th>\n",
       "      <th>NumRecords</th>\n",
       "      <th>Gender</th>\n",
       "      <th>Age</th>\n",
       "      <th>YearOfBirth</th>\n",
       "      <th>TotalDur_sec</th>\n",
       "      <th>AvgDur_sec</th>\n",
       "    </tr>\n",
       "  </thead>\n",
       "  <tbody>\n",
       "    <tr>\n",
       "      <th>0</th>\n",
       "      <td>0</td>\n",
       "      <td>5</td>\n",
       "      <td>0</td>\n",
       "      <td>83</td>\n",
       "      <td>1932</td>\n",
       "      <td>4182</td>\n",
       "      <td>836</td>\n",
       "    </tr>\n",
       "    <tr>\n",
       "      <th>1</th>\n",
       "      <td>0</td>\n",
       "      <td>2</td>\n",
       "      <td>0</td>\n",
       "      <td>77</td>\n",
       "      <td>1938</td>\n",
       "      <td>1457</td>\n",
       "      <td>728</td>\n",
       "    </tr>\n",
       "    <tr>\n",
       "      <th>2</th>\n",
       "      <td>0</td>\n",
       "      <td>11</td>\n",
       "      <td>1</td>\n",
       "      <td>77</td>\n",
       "      <td>1938</td>\n",
       "      <td>7645</td>\n",
       "      <td>695</td>\n",
       "    </tr>\n",
       "    <tr>\n",
       "      <th>3</th>\n",
       "      <td>0</td>\n",
       "      <td>11</td>\n",
       "      <td>1</td>\n",
       "      <td>76</td>\n",
       "      <td>1939</td>\n",
       "      <td>4956</td>\n",
       "      <td>450</td>\n",
       "    </tr>\n",
       "    <tr>\n",
       "      <th>4</th>\n",
       "      <td>0</td>\n",
       "      <td>16</td>\n",
       "      <td>1</td>\n",
       "      <td>75</td>\n",
       "      <td>1940</td>\n",
       "      <td>10131</td>\n",
       "      <td>633</td>\n",
       "    </tr>\n",
       "  </tbody>\n",
       "</table>\n",
       "</div>"
      ],
      "text/plain": [
       "   City  NumRecords  Gender  Age  YearOfBirth  TotalDur_sec  AvgDur_sec\n",
       "0     0           5       0   83         1932          4182         836\n",
       "1     0           2       0   77         1938          1457         728\n",
       "2     0          11       1   77         1938          7645         695\n",
       "3     0          11       1   76         1939          4956         450\n",
       "4     0          16       1   75         1940         10131         633"
      ]
     },
     "execution_count": 41,
     "metadata": {},
     "output_type": "execute_result"
    }
   ],
   "source": [
    "dsCity['Gender']=dsCity.Gender.map({'Female':0,'Male':1})\n",
    "dsCity['City']=dsCity.City.map({'Boston':0,'Chicago':1})\n",
    "dsCity.head()"
   ]
  },
  {
   "cell_type": "code",
   "execution_count": 42,
   "metadata": {
    "collapsed": false
   },
   "outputs": [],
   "source": [
    "X=dsCity[['City','NumRecords','Gender','Age']]\n",
    "\n",
    "Y= dsCity[['TotalDur_sec']]"
   ]
  },
  {
   "cell_type": "code",
   "execution_count": 43,
   "metadata": {
    "collapsed": false
   },
   "outputs": [],
   "source": [
    "X_train, X_test, y_train, y_test = cross_validation.train_test_split(X,Y,test_size=0.2,random_state=1)"
   ]
  },
  {
   "cell_type": "markdown",
   "metadata": {},
   "source": [
    "### Perform Linear Regression"
   ]
  },
  {
   "cell_type": "code",
   "execution_count": 44,
   "metadata": {
    "collapsed": false
   },
   "outputs": [
    {
     "name": "stdout",
     "output_type": "stream",
     "text": [
      "coefficient [[-39339.04744487    703.81353886 -94930.04350551  -2198.19539561]]\n",
      "intercept [ 294329.37049308]\n",
      "Mean squared error for liner regression: 2.15919039239e+11\n"
     ]
    }
   ],
   "source": [
    "linear_rgr =linear_model.LinearRegression()\n",
    "linear_rgr.fit(X_train,y_train)\n",
    "\n",
    "print(\"coefficient {}\".format(linear_rgr.coef_))\n",
    "print(\"intercept {}\".format(linear_rgr.intercept_))\n",
    "linear_MSE = mean_squared_error(y_test, linear_rgr.predict(X_test))\n",
    "print('Mean squared error for liner regression: {}'.format(linear_MSE))\n"
   ]
  },
  {
   "cell_type": "code",
   "execution_count": null,
   "metadata": {
    "collapsed": true
   },
   "outputs": [],
   "source": []
  }
 ],
 "metadata": {
  "kernelspec": {
   "display_name": "Python 2",
   "language": "python",
   "name": "python2"
  },
  "language_info": {
   "codemirror_mode": {
    "name": "ipython",
    "version": 2
   },
   "file_extension": ".py",
   "mimetype": "text/x-python",
   "name": "python",
   "nbconvert_exporter": "python",
   "pygments_lexer": "ipython2",
   "version": "2.7.10"
  }
 },
 "nbformat": 4,
 "nbformat_minor": 0
}
