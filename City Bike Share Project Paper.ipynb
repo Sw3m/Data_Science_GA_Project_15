{
 "cells": [
  {
   "cell_type": "markdown",
   "metadata": {},
   "source": [
    "# City Bike Share Analysis\n",
    "\n"
   ]
  },
  {
   "cell_type": "markdown",
   "metadata": {},
   "source": [
    "# # Project Summary\n",
    "\n",
    "###Problem Statement\n",
    "\n",
    "###What is the likelihood that a Bike Share program will succeed in the City of Atlanta? \n",
    "By using bike share data from other US cities, I want to be able to analyze the popularity and trends of bike shares amongst females and males of different ages. \n",
    "\n"
   ]
  },
  {
   "cell_type": "markdown",
   "metadata": {},
   "source": [
    "## Description of Data and Collection method\n",
    "\n",
    "CSV Files of Open Dataset for:\n",
    "*Chicago Q1 & Q2 2015\n",
    "*Boston 2011 to 2013\n",
    "*NYC Jan 2015 to Jul 2015\n",
    "\n",
    "Files Contain:\n",
    "Gender\n",
    "Year of Birth\n",
    "Trip date and time\n",
    "Duration of Trip\n",
    "\n",
    "###Transformation and data aggregation description:\n",
    "I loaded data for Chicago and Boston into a single table (via MS Sql Server Express), where the total volume is ~1.2 M records.In order to conform data to a standard gender code, I updated the gender for each record to \"Female\" and \"Male\" values.\n",
    "The data was then aggregrated by sum of duration , grouped by city,gender and age. The aggregrated data was outputted to a CSV file for use in cross validation and model use.\n"
   ]
  },
  {
   "cell_type": "markdown",
   "metadata": {},
   "source": [
    "  "
   ]
  },
  {
   "cell_type": "code",
   "execution_count": 46,
   "metadata": {
    "collapsed": true
   },
   "outputs": [],
   "source": [
    "import pandas as pd\n",
    "import numpy as np\n",
    "import matplotlib.pyplot as plt\n",
    "from sklearn import linear_model\n",
    "from sklearn.linear_model import Lasso\n",
    "from sklearn.linear_model import Ridge\n",
    "from sklearn.preprocessing import StandardScaler\n",
    "from sklearn import cross_validation\n",
    "from sklearn.metrics import mean_squared_error\n",
    "from sklearn import grid_search\n",
    "from sklearn import tree\n",
    "from sklearn.ensemble import RandomForestClassifier\n",
    "from sklearn.metrics import accuracy_score\n",
    "\n",
    "%matplotlib inline\n",
    "\n"
   ]
  },
  {
   "cell_type": "code",
   "execution_count": 47,
   "metadata": {
    "collapsed": false
   },
   "outputs": [],
   "source": [
    "#dsCity= pd.read_csv('https://raw.githubusercontent.com/Sw3m/Data_Science_GA_Project_15/master/Datasets/CityBikeShareExtract.csv')\n",
    "dsCity= pd.read_csv('C:/Users/sawadhawan/Documents/GitHub/Data_Science_GA_Project_15/Datasets/CityBikeShareExtract.csv')"
   ]
  },
  {
   "cell_type": "code",
   "execution_count": 48,
   "metadata": {
    "collapsed": true
   },
   "outputs": [],
   "source": [
    "#dsBike= pd.read_csv('https://raw.githubusercontent.com/Sw3m/Data_Science_GA_Project_15/master/Datasets/ALLBikeShareExtract.csv')\n",
    "dsBike= pd.read_csv('C:/Users/sawadhawan/Documents/GitHub/Data_Science_GA_Project_15/Datasets/ALLBikeShareExtract.csv')"
   ]
  },
  {
   "cell_type": "code",
   "execution_count": 49,
   "metadata": {
    "collapsed": false
   },
   "outputs": [
    {
     "data": {
      "text/html": [
       "<div>\n",
       "<table border=\"1\" class=\"dataframe\">\n",
       "  <thead>\n",
       "    <tr style=\"text-align: right;\">\n",
       "      <th></th>\n",
       "      <th>City</th>\n",
       "      <th>NumRecords</th>\n",
       "      <th>Gender</th>\n",
       "      <th>Age</th>\n",
       "      <th>AgeRange</th>\n",
       "      <th>YearOfBirth</th>\n",
       "      <th>TotalDur_sec</th>\n",
       "      <th>AvgDur_sec</th>\n",
       "    </tr>\n",
       "  </thead>\n",
       "  <tbody>\n",
       "    <tr>\n",
       "      <th>0</th>\n",
       "      <td>Boston</td>\n",
       "      <td>5</td>\n",
       "      <td>Female</td>\n",
       "      <td>83</td>\n",
       "      <td>75 Years or older</td>\n",
       "      <td>1932</td>\n",
       "      <td>4182</td>\n",
       "      <td>836</td>\n",
       "    </tr>\n",
       "    <tr>\n",
       "      <th>1</th>\n",
       "      <td>Boston</td>\n",
       "      <td>2</td>\n",
       "      <td>Female</td>\n",
       "      <td>77</td>\n",
       "      <td>75 Years or older</td>\n",
       "      <td>1938</td>\n",
       "      <td>1457</td>\n",
       "      <td>728</td>\n",
       "    </tr>\n",
       "    <tr>\n",
       "      <th>2</th>\n",
       "      <td>Boston</td>\n",
       "      <td>11</td>\n",
       "      <td>Male</td>\n",
       "      <td>77</td>\n",
       "      <td>75 Years or older</td>\n",
       "      <td>1938</td>\n",
       "      <td>7645</td>\n",
       "      <td>695</td>\n",
       "    </tr>\n",
       "    <tr>\n",
       "      <th>3</th>\n",
       "      <td>Boston</td>\n",
       "      <td>11</td>\n",
       "      <td>Male</td>\n",
       "      <td>76</td>\n",
       "      <td>75 Years or older</td>\n",
       "      <td>1939</td>\n",
       "      <td>4956</td>\n",
       "      <td>450</td>\n",
       "    </tr>\n",
       "    <tr>\n",
       "      <th>4</th>\n",
       "      <td>Boston</td>\n",
       "      <td>16</td>\n",
       "      <td>Male</td>\n",
       "      <td>75</td>\n",
       "      <td>75 Years or older</td>\n",
       "      <td>1940</td>\n",
       "      <td>10131</td>\n",
       "      <td>633</td>\n",
       "    </tr>\n",
       "  </tbody>\n",
       "</table>\n",
       "</div>"
      ],
      "text/plain": [
       "     City  NumRecords  Gender  Age           AgeRange  YearOfBirth  \\\n",
       "0  Boston           5  Female   83  75 Years or older         1932   \n",
       "1  Boston           2  Female   77  75 Years or older         1938   \n",
       "2  Boston          11    Male   77  75 Years or older         1938   \n",
       "3  Boston          11    Male   76  75 Years or older         1939   \n",
       "4  Boston          16    Male   75  75 Years or older         1940   \n",
       "\n",
       "   TotalDur_sec  AvgDur_sec  \n",
       "0          4182         836  \n",
       "1          1457         728  \n",
       "2          7645         695  \n",
       "3          4956         450  \n",
       "4         10131         633  "
      ]
     },
     "execution_count": 49,
     "metadata": {},
     "output_type": "execute_result"
    }
   ],
   "source": [
    "dsCity.head()"
   ]
  },
  {
   "cell_type": "code",
   "execution_count": 50,
   "metadata": {
    "collapsed": false
   },
   "outputs": [
    {
     "data": {
      "text/plain": [
       "393"
      ]
     },
     "execution_count": 50,
     "metadata": {},
     "output_type": "execute_result"
    }
   ],
   "source": [
    "len(dsCity.index)"
   ]
  },
  {
   "cell_type": "code",
   "execution_count": 51,
   "metadata": {
    "collapsed": false
   },
   "outputs": [],
   "source": [
    "dsBoston = dsCity[dsCity['City']=='Boston']\n",
    "dsChicago = dsCity[dsCity['City']=='Chicago']\n",
    "dsNYC= dsCity[dsCity['City']=='NYC']\n"
   ]
  },
  {
   "cell_type": "code",
   "execution_count": 52,
   "metadata": {
    "collapsed": false
   },
   "outputs": [
    {
     "data": {
      "text/html": [
       "<div>\n",
       "<table border=\"1\" class=\"dataframe\">\n",
       "  <thead>\n",
       "    <tr style=\"text-align: right;\">\n",
       "      <th></th>\n",
       "      <th>City</th>\n",
       "      <th>NumRecords</th>\n",
       "      <th>Gender</th>\n",
       "      <th>Age</th>\n",
       "      <th>AgeRange</th>\n",
       "      <th>YearOfBirth</th>\n",
       "      <th>TotalDur_sec</th>\n",
       "      <th>AvgDur_sec</th>\n",
       "    </tr>\n",
       "  </thead>\n",
       "  <tbody>\n",
       "    <tr>\n",
       "      <th>0</th>\n",
       "      <td>0</td>\n",
       "      <td>5</td>\n",
       "      <td>0</td>\n",
       "      <td>83</td>\n",
       "      <td>75 Years or older</td>\n",
       "      <td>1932</td>\n",
       "      <td>4182</td>\n",
       "      <td>836</td>\n",
       "    </tr>\n",
       "    <tr>\n",
       "      <th>1</th>\n",
       "      <td>0</td>\n",
       "      <td>2</td>\n",
       "      <td>0</td>\n",
       "      <td>77</td>\n",
       "      <td>75 Years or older</td>\n",
       "      <td>1938</td>\n",
       "      <td>1457</td>\n",
       "      <td>728</td>\n",
       "    </tr>\n",
       "    <tr>\n",
       "      <th>2</th>\n",
       "      <td>0</td>\n",
       "      <td>11</td>\n",
       "      <td>1</td>\n",
       "      <td>77</td>\n",
       "      <td>75 Years or older</td>\n",
       "      <td>1938</td>\n",
       "      <td>7645</td>\n",
       "      <td>695</td>\n",
       "    </tr>\n",
       "    <tr>\n",
       "      <th>3</th>\n",
       "      <td>0</td>\n",
       "      <td>11</td>\n",
       "      <td>1</td>\n",
       "      <td>76</td>\n",
       "      <td>75 Years or older</td>\n",
       "      <td>1939</td>\n",
       "      <td>4956</td>\n",
       "      <td>450</td>\n",
       "    </tr>\n",
       "    <tr>\n",
       "      <th>4</th>\n",
       "      <td>0</td>\n",
       "      <td>16</td>\n",
       "      <td>1</td>\n",
       "      <td>75</td>\n",
       "      <td>75 Years or older</td>\n",
       "      <td>1940</td>\n",
       "      <td>10131</td>\n",
       "      <td>633</td>\n",
       "    </tr>\n",
       "  </tbody>\n",
       "</table>\n",
       "</div>"
      ],
      "text/plain": [
       "   City  NumRecords  Gender  Age           AgeRange  YearOfBirth  \\\n",
       "0     0           5       0   83  75 Years or older         1932   \n",
       "1     0           2       0   77  75 Years or older         1938   \n",
       "2     0          11       1   77  75 Years or older         1938   \n",
       "3     0          11       1   76  75 Years or older         1939   \n",
       "4     0          16       1   75  75 Years or older         1940   \n",
       "\n",
       "   TotalDur_sec  AvgDur_sec  \n",
       "0          4182         836  \n",
       "1          1457         728  \n",
       "2          7645         695  \n",
       "3          4956         450  \n",
       "4         10131         633  "
      ]
     },
     "execution_count": 52,
     "metadata": {},
     "output_type": "execute_result"
    }
   ],
   "source": [
    "dsCity['Gender']=dsCity.Gender.map({'Female':0,'Male':1})\n",
    "dsCity['City']=dsCity.City.map({'Boston':0,'Chicago':1,'NYC':2})\n",
    "dsCity.head()"
   ]
  },
  {
   "cell_type": "code",
   "execution_count": 53,
   "metadata": {
    "collapsed": false
   },
   "outputs": [],
   "source": [
    "#X=dsCity[['TotalDur_sec','Gender','NumRecords']]\n",
    "\n",
    "#Y= dsCity[['Age']]"
   ]
  },
  {
   "cell_type": "code",
   "execution_count": 54,
   "metadata": {
    "collapsed": false
   },
   "outputs": [],
   "source": [
    "#X_train, X_test, y_train, y_test = cross_validation.train_test_split(X,Y,test_size=0.2,random_state=1)"
   ]
  },
  {
   "cell_type": "code",
   "execution_count": 55,
   "metadata": {
    "collapsed": false
   },
   "outputs": [
    {
     "data": {
      "text/html": [
       "<div>\n",
       "<table border=\"1\" class=\"dataframe\">\n",
       "  <thead>\n",
       "    <tr style=\"text-align: right;\">\n",
       "      <th></th>\n",
       "      <th>NumRec</th>\n",
       "      <th>Gender</th>\n",
       "      <th>Age</th>\n",
       "      <th>AgeRange</th>\n",
       "      <th>YearOfBirth</th>\n",
       "      <th>TotalDur_sec</th>\n",
       "      <th>AvgDur_sec</th>\n",
       "    </tr>\n",
       "  </thead>\n",
       "  <tbody>\n",
       "    <tr>\n",
       "      <th>0</th>\n",
       "      <td>1</td>\n",
       "      <td>1</td>\n",
       "      <td>130</td>\n",
       "      <td>75 Years or older</td>\n",
       "      <td>1885</td>\n",
       "      <td>357</td>\n",
       "      <td>357</td>\n",
       "    </tr>\n",
       "    <tr>\n",
       "      <th>1</th>\n",
       "      <td>1</td>\n",
       "      <td>1</td>\n",
       "      <td>117</td>\n",
       "      <td>75 Years or older</td>\n",
       "      <td>1898</td>\n",
       "      <td>766</td>\n",
       "      <td>766</td>\n",
       "    </tr>\n",
       "    <tr>\n",
       "      <th>2</th>\n",
       "      <td>155</td>\n",
       "      <td>1</td>\n",
       "      <td>116</td>\n",
       "      <td>75 Years or older</td>\n",
       "      <td>1899</td>\n",
       "      <td>188945</td>\n",
       "      <td>1219</td>\n",
       "    </tr>\n",
       "    <tr>\n",
       "      <th>3</th>\n",
       "      <td>13</td>\n",
       "      <td>0</td>\n",
       "      <td>115</td>\n",
       "      <td>75 Years or older</td>\n",
       "      <td>1900</td>\n",
       "      <td>8976</td>\n",
       "      <td>690</td>\n",
       "    </tr>\n",
       "    <tr>\n",
       "      <th>4</th>\n",
       "      <td>806</td>\n",
       "      <td>1</td>\n",
       "      <td>115</td>\n",
       "      <td>75 Years or older</td>\n",
       "      <td>1900</td>\n",
       "      <td>867036</td>\n",
       "      <td>1075</td>\n",
       "    </tr>\n",
       "  </tbody>\n",
       "</table>\n",
       "</div>"
      ],
      "text/plain": [
       "   NumRec  Gender  Age           AgeRange  YearOfBirth  TotalDur_sec  \\\n",
       "0       1       1  130  75 Years or older         1885           357   \n",
       "1       1       1  117  75 Years or older         1898           766   \n",
       "2     155       1  116  75 Years or older         1899        188945   \n",
       "3      13       0  115  75 Years or older         1900          8976   \n",
       "4     806       1  115  75 Years or older         1900        867036   \n",
       "\n",
       "   AvgDur_sec  \n",
       "0         357  \n",
       "1         766  \n",
       "2        1219  \n",
       "3         690  \n",
       "4        1075  "
      ]
     },
     "execution_count": 55,
     "metadata": {},
     "output_type": "execute_result"
    }
   ],
   "source": [
    "dsBike['Gender']=dsBike.Gender.map({'Female':0,'Male':1})\n",
    "dsBike.head()"
   ]
  },
  {
   "cell_type": "code",
   "execution_count": 56,
   "metadata": {
    "collapsed": false
   },
   "outputs": [
    {
     "data": {
      "text/plain": [
       "<matplotlib.collections.PathCollection at 0x19a0dc18>"
      ]
     },
     "execution_count": 56,
     "metadata": {},
     "output_type": "execute_result"
    },
    {
     "data": {
      "image/png": "[encoded data removed]",
      "text/plain": [
       "<matplotlib.figure.Figure at 0x1996d668>"
      ]
     },
     "metadata": {},
     "output_type": "display_data"
    }
   ],
   "source": [
    "plt.scatter(dsCity['Age'],dsCity['TotalDur_sec'])"
   ]
  },
  {
   "cell_type": "code",
   "execution_count": 57,
   "metadata": {
    "collapsed": true
   },
   "outputs": [],
   "source": [
    "Xbike=dsBike[['TotalDur_sec','Gender']]\n",
    "\n",
    "Ybike= dsBike[['Age']]"
   ]
  },
  {
   "cell_type": "code",
   "execution_count": 58,
   "metadata": {
    "collapsed": false
   },
   "outputs": [
    {
     "data": {
      "text/plain": [
       "<matplotlib.collections.PathCollection at 0x19ac4b70>"
      ]
     },
     "execution_count": 58,
     "metadata": {},
     "output_type": "execute_result"
    },
    {
     "data": {
      "image/png": "[encoded data removed]",
      "text/plain": [
       "<matplotlib.figure.Figure at 0x19b34c18>"
      ]
     },
     "metadata": {},
     "output_type": "display_data"
    }
   ],
   "source": [
    "plt.scatter(dsBike['Age'],dsBike['TotalDur_sec'])"
   ]
  },
  {
   "cell_type": "markdown",
   "metadata": {},
   "source": [
    "### Perform Linear Regression"
   ]
  },
  {
   "cell_type": "code",
   "execution_count": 59,
   "metadata": {
    "collapsed": false
   },
   "outputs": [],
   "source": [
    "#Linear Reg at City level dataset/dataframe\n",
    "#linear_rgr =linear_model.LinearRegression()\n",
    "#linear_rgr.fit(X_train,y_train)\n",
    "\n",
    "#print(\"coefficient {}\".format(linear_rgr.coef_))\n",
    "#print(\"intercept {}\".format(linear_rgr.intercept_))\n",
    "#linear_MSE = mean_squared_error(y_test, linear_rgr.predict(X_test))\n",
    "#print('Mean squared error for liner regression by cities: {}'.format(linear_MSE))\n"
   ]
  },
  {
   "cell_type": "code",
   "execution_count": 60,
   "metadata": {
    "collapsed": false
   },
   "outputs": [
    {
     "name": "stdout",
     "output_type": "stream",
     "text": [
      "coefficient [[ -7.41663642e-07   1.92786243e+01]]\n",
      "intercept [ 60.20079475]\n",
      "Mean squared error for liner regression: 414.517814479\n"
     ]
    }
   ],
   "source": [
    "X_trainb, X_testb, y_trainb, y_testb = cross_validation.train_test_split(Xbike,Ybike,test_size=0.2,random_state=1)\n",
    "\n",
    "linear_rgrB =linear_model.LinearRegression()\n",
    "linear_rgrB.fit(X_trainb,y_trainb)\n",
    "\n",
    "print(\"coefficient {}\".format(linear_rgrB.coef_))\n",
    "print(\"intercept {}\".format(linear_rgrB.intercept_))\n",
    "linear_MSEb = mean_squared_error(y_testb, linear_rgrB.predict(X_testb))\n",
    "print('Mean squared error for liner regression: {}'.format(linear_MSEb))"
   ]
  },
  {
   "cell_type": "code",
   "execution_count": 61,
   "metadata": {
    "collapsed": false
   },
   "outputs": [
    {
     "name": "stdout",
     "output_type": "stream",
     "text": [
      "                            OLS Regression Results                            \n",
      "==============================================================================\n",
      "Dep. Variable:                    Age   R-squared:                       0.289\n",
      "Model:                            OLS   Adj. R-squared:                  0.284\n",
      "Method:                 Least Squares   F-statistic:                     62.93\n",
      "Date:                Wed, 11 Nov 2015   Prob (F-statistic):           3.99e-13\n",
      "Time:                        12:24:36   Log-Likelihood:                -709.10\n",
      "No. Observations:                 157   AIC:                             1422.\n",
      "Df Residuals:                     155   BIC:                             1428.\n",
      "Df Model:                           1                                         \n",
      "Covariance Type:            nonrobust                                         \n",
      "================================================================================\n",
      "                   coef    std err          t      P>|t|      [95.0% Conf. Int.]\n",
      "--------------------------------------------------------------------------------\n",
      "Intercept       67.7846      2.261     29.975      0.000        63.317    72.252\n",
      "TotalDur_sec  -6.05e-07   7.63e-08     -7.933      0.000     -7.56e-07 -4.54e-07\n",
      "==============================================================================\n",
      "Omnibus:                        3.028   Durbin-Watson:                   0.516\n",
      "Prob(Omnibus):                  0.220   Jarque-Bera (JB):                2.741\n",
      "Skew:                          -0.186   Prob(JB):                        0.254\n",
      "Kurtosis:                       3.530   Cond. No.                     3.77e+07\n",
      "==============================================================================\n",
      "\n",
      "Warnings:\n",
      "[1] Standard Errors assume that the covariance matrix of the errors is correctly specified.\n",
      "[2] The condition number is large, 3.77e+07. This might indicate that there are\n",
      "strong multicollinearity or other numerical problems.\n"
     ]
    }
   ],
   "source": [
    "import statsmodels.formula.api as sm\n",
    "\n",
    "model = sm.ols(formula='Age ~ TotalDur_sec', data=dsBike)\n",
    "results = model.fit()\n",
    "print(results.summary())"
   ]
  },
  {
   "cell_type": "markdown",
   "metadata": {},
   "source": [
    "###Perform Logistic Regression"
   ]
  },
  {
   "cell_type": "markdown",
   "metadata": {},
   "source": [
    "### Perform KNN"
   ]
  },
  {
   "cell_type": "code",
   "execution_count": 62,
   "metadata": {
    "collapsed": false
   },
   "outputs": [
    {
     "data": {
      "text/plain": [
       "[<matplotlib.lines.Line2D at 0x19cddd30>,\n",
       " <matplotlib.lines.Line2D at 0x19cddf60>]"
      ]
     },
     "execution_count": 62,
     "metadata": {},
     "output_type": "execute_result"
    },
    {
     "data": {
      "image/png": "[encoded data removed]",
      "text/plain": [
       "<matplotlib.figure.Figure at 0x19980eb8>"
      ]
     },
     "metadata": {},
     "output_type": "display_data"
    }
   ],
   "source": [
    "from sklearn import neighbors\n",
    "knn = neighbors.KNeighborsRegressor()\n",
    "knn.fit(X_trainb,y_trainb)\n",
    "knn_b = knn.predict(X_testb)\n",
    "\n",
    "#y_ = knn.fit(TV_train.reshape(len(TV_train),1),Sales_train).predict(TV_test.reshape(len(TV_test),1))\n",
    "\n",
    "#plt.scatter(X_testb.values,y_testb,c='b', label='data')\n",
    "plt.plot(X_testb,knn_b,c='g',label='prediction')"
   ]
  },
  {
   "cell_type": "code",
   "execution_count": 63,
   "metadata": {
    "collapsed": true
   },
   "outputs": [],
   "source": [
    "temp = pd.get_dummies(dsBike, columns = ['AgeRange'])"
   ]
  },
  {
   "cell_type": "code",
   "execution_count": 64,
   "metadata": {
    "collapsed": false,
    "scrolled": true
   },
   "outputs": [
    {
     "data": {
      "text/html": [
       "<div>\n",
       "<table border=\"1\" class=\"dataframe\">\n",
       "  <thead>\n",
       "    <tr style=\"text-align: right;\">\n",
       "      <th></th>\n",
       "      <th>NumRec</th>\n",
       "      <th>Gender</th>\n",
       "      <th>Age</th>\n",
       "      <th>YearOfBirth</th>\n",
       "      <th>TotalDur_sec</th>\n",
       "      <th>AvgDur_sec</th>\n",
       "      <th>AgeRange_12-17 years old</th>\n",
       "      <th>AgeRange_18-24 years old</th>\n",
       "      <th>AgeRange_25-34 years old</th>\n",
       "      <th>AgeRange_35-44 years old</th>\n",
       "      <th>AgeRange_45-54 years old</th>\n",
       "      <th>AgeRange_55-64 years old</th>\n",
       "      <th>AgeRange_65-74 years old</th>\n",
       "      <th>AgeRange_75 Years or older</th>\n",
       "    </tr>\n",
       "  </thead>\n",
       "  <tbody>\n",
       "    <tr>\n",
       "      <th>0</th>\n",
       "      <td>1</td>\n",
       "      <td>1</td>\n",
       "      <td>130</td>\n",
       "      <td>1885</td>\n",
       "      <td>357</td>\n",
       "      <td>357</td>\n",
       "      <td>0</td>\n",
       "      <td>0</td>\n",
       "      <td>0</td>\n",
       "      <td>0</td>\n",
       "      <td>0</td>\n",
       "      <td>0</td>\n",
       "      <td>0</td>\n",
       "      <td>1</td>\n",
       "    </tr>\n",
       "    <tr>\n",
       "      <th>1</th>\n",
       "      <td>1</td>\n",
       "      <td>1</td>\n",
       "      <td>117</td>\n",
       "      <td>1898</td>\n",
       "      <td>766</td>\n",
       "      <td>766</td>\n",
       "      <td>0</td>\n",
       "      <td>0</td>\n",
       "      <td>0</td>\n",
       "      <td>0</td>\n",
       "      <td>0</td>\n",
       "      <td>0</td>\n",
       "      <td>0</td>\n",
       "      <td>1</td>\n",
       "    </tr>\n",
       "    <tr>\n",
       "      <th>2</th>\n",
       "      <td>155</td>\n",
       "      <td>1</td>\n",
       "      <td>116</td>\n",
       "      <td>1899</td>\n",
       "      <td>188945</td>\n",
       "      <td>1219</td>\n",
       "      <td>0</td>\n",
       "      <td>0</td>\n",
       "      <td>0</td>\n",
       "      <td>0</td>\n",
       "      <td>0</td>\n",
       "      <td>0</td>\n",
       "      <td>0</td>\n",
       "      <td>1</td>\n",
       "    </tr>\n",
       "    <tr>\n",
       "      <th>3</th>\n",
       "      <td>13</td>\n",
       "      <td>0</td>\n",
       "      <td>115</td>\n",
       "      <td>1900</td>\n",
       "      <td>8976</td>\n",
       "      <td>690</td>\n",
       "      <td>0</td>\n",
       "      <td>0</td>\n",
       "      <td>0</td>\n",
       "      <td>0</td>\n",
       "      <td>0</td>\n",
       "      <td>0</td>\n",
       "      <td>0</td>\n",
       "      <td>1</td>\n",
       "    </tr>\n",
       "    <tr>\n",
       "      <th>4</th>\n",
       "      <td>806</td>\n",
       "      <td>1</td>\n",
       "      <td>115</td>\n",
       "      <td>1900</td>\n",
       "      <td>867036</td>\n",
       "      <td>1075</td>\n",
       "      <td>0</td>\n",
       "      <td>0</td>\n",
       "      <td>0</td>\n",
       "      <td>0</td>\n",
       "      <td>0</td>\n",
       "      <td>0</td>\n",
       "      <td>0</td>\n",
       "      <td>1</td>\n",
       "    </tr>\n",
       "    <tr>\n",
       "      <th>5</th>\n",
       "      <td>3</td>\n",
       "      <td>0</td>\n",
       "      <td>114</td>\n",
       "      <td>1901</td>\n",
       "      <td>27896</td>\n",
       "      <td>9298</td>\n",
       "      <td>0</td>\n",
       "      <td>0</td>\n",
       "      <td>0</td>\n",
       "      <td>0</td>\n",
       "      <td>0</td>\n",
       "      <td>0</td>\n",
       "      <td>0</td>\n",
       "      <td>1</td>\n",
       "    </tr>\n",
       "    <tr>\n",
       "      <th>6</th>\n",
       "      <td>164</td>\n",
       "      <td>1</td>\n",
       "      <td>114</td>\n",
       "      <td>1901</td>\n",
       "      <td>159245</td>\n",
       "      <td>971</td>\n",
       "      <td>0</td>\n",
       "      <td>0</td>\n",
       "      <td>0</td>\n",
       "      <td>0</td>\n",
       "      <td>0</td>\n",
       "      <td>0</td>\n",
       "      <td>0</td>\n",
       "      <td>1</td>\n",
       "    </tr>\n",
       "    <tr>\n",
       "      <th>7</th>\n",
       "      <td>63</td>\n",
       "      <td>1</td>\n",
       "      <td>109</td>\n",
       "      <td>1906</td>\n",
       "      <td>48103</td>\n",
       "      <td>763</td>\n",
       "      <td>0</td>\n",
       "      <td>0</td>\n",
       "      <td>0</td>\n",
       "      <td>0</td>\n",
       "      <td>0</td>\n",
       "      <td>0</td>\n",
       "      <td>0</td>\n",
       "      <td>1</td>\n",
       "    </tr>\n",
       "    <tr>\n",
       "      <th>8</th>\n",
       "      <td>7</td>\n",
       "      <td>1</td>\n",
       "      <td>108</td>\n",
       "      <td>1907</td>\n",
       "      <td>5645</td>\n",
       "      <td>806</td>\n",
       "      <td>0</td>\n",
       "      <td>0</td>\n",
       "      <td>0</td>\n",
       "      <td>0</td>\n",
       "      <td>0</td>\n",
       "      <td>0</td>\n",
       "      <td>0</td>\n",
       "      <td>1</td>\n",
       "    </tr>\n",
       "    <tr>\n",
       "      <th>9</th>\n",
       "      <td>6</td>\n",
       "      <td>1</td>\n",
       "      <td>106</td>\n",
       "      <td>1909</td>\n",
       "      <td>6196</td>\n",
       "      <td>1032</td>\n",
       "      <td>0</td>\n",
       "      <td>0</td>\n",
       "      <td>0</td>\n",
       "      <td>0</td>\n",
       "      <td>0</td>\n",
       "      <td>0</td>\n",
       "      <td>0</td>\n",
       "      <td>1</td>\n",
       "    </tr>\n",
       "    <tr>\n",
       "      <th>10</th>\n",
       "      <td>20</td>\n",
       "      <td>1</td>\n",
       "      <td>105</td>\n",
       "      <td>1910</td>\n",
       "      <td>25755</td>\n",
       "      <td>1287</td>\n",
       "      <td>0</td>\n",
       "      <td>0</td>\n",
       "      <td>0</td>\n",
       "      <td>0</td>\n",
       "      <td>0</td>\n",
       "      <td>0</td>\n",
       "      <td>0</td>\n",
       "      <td>1</td>\n",
       "    </tr>\n",
       "    <tr>\n",
       "      <th>11</th>\n",
       "      <td>10</td>\n",
       "      <td>0</td>\n",
       "      <td>103</td>\n",
       "      <td>1912</td>\n",
       "      <td>9194</td>\n",
       "      <td>919</td>\n",
       "      <td>0</td>\n",
       "      <td>0</td>\n",
       "      <td>0</td>\n",
       "      <td>0</td>\n",
       "      <td>0</td>\n",
       "      <td>0</td>\n",
       "      <td>0</td>\n",
       "      <td>1</td>\n",
       "    </tr>\n",
       "    <tr>\n",
       "      <th>12</th>\n",
       "      <td>1</td>\n",
       "      <td>1</td>\n",
       "      <td>98</td>\n",
       "      <td>1917</td>\n",
       "      <td>655</td>\n",
       "      <td>655</td>\n",
       "      <td>0</td>\n",
       "      <td>0</td>\n",
       "      <td>0</td>\n",
       "      <td>0</td>\n",
       "      <td>0</td>\n",
       "      <td>0</td>\n",
       "      <td>0</td>\n",
       "      <td>1</td>\n",
       "    </tr>\n",
       "    <tr>\n",
       "      <th>13</th>\n",
       "      <td>10</td>\n",
       "      <td>1</td>\n",
       "      <td>95</td>\n",
       "      <td>1920</td>\n",
       "      <td>7442</td>\n",
       "      <td>744</td>\n",
       "      <td>0</td>\n",
       "      <td>0</td>\n",
       "      <td>0</td>\n",
       "      <td>0</td>\n",
       "      <td>0</td>\n",
       "      <td>0</td>\n",
       "      <td>0</td>\n",
       "      <td>1</td>\n",
       "    </tr>\n",
       "    <tr>\n",
       "      <th>14</th>\n",
       "      <td>117</td>\n",
       "      <td>1</td>\n",
       "      <td>93</td>\n",
       "      <td>1922</td>\n",
       "      <td>71289</td>\n",
       "      <td>609</td>\n",
       "      <td>0</td>\n",
       "      <td>0</td>\n",
       "      <td>0</td>\n",
       "      <td>0</td>\n",
       "      <td>0</td>\n",
       "      <td>0</td>\n",
       "      <td>0</td>\n",
       "      <td>1</td>\n",
       "    </tr>\n",
       "    <tr>\n",
       "      <th>15</th>\n",
       "      <td>2</td>\n",
       "      <td>1</td>\n",
       "      <td>90</td>\n",
       "      <td>1925</td>\n",
       "      <td>1204</td>\n",
       "      <td>602</td>\n",
       "      <td>0</td>\n",
       "      <td>0</td>\n",
       "      <td>0</td>\n",
       "      <td>0</td>\n",
       "      <td>0</td>\n",
       "      <td>0</td>\n",
       "      <td>0</td>\n",
       "      <td>1</td>\n",
       "    </tr>\n",
       "    <tr>\n",
       "      <th>16</th>\n",
       "      <td>33</td>\n",
       "      <td>0</td>\n",
       "      <td>89</td>\n",
       "      <td>1926</td>\n",
       "      <td>20678</td>\n",
       "      <td>626</td>\n",
       "      <td>0</td>\n",
       "      <td>0</td>\n",
       "      <td>0</td>\n",
       "      <td>0</td>\n",
       "      <td>0</td>\n",
       "      <td>0</td>\n",
       "      <td>0</td>\n",
       "      <td>1</td>\n",
       "    </tr>\n",
       "    <tr>\n",
       "      <th>17</th>\n",
       "      <td>7</td>\n",
       "      <td>1</td>\n",
       "      <td>89</td>\n",
       "      <td>1926</td>\n",
       "      <td>29677</td>\n",
       "      <td>4239</td>\n",
       "      <td>0</td>\n",
       "      <td>0</td>\n",
       "      <td>0</td>\n",
       "      <td>0</td>\n",
       "      <td>0</td>\n",
       "      <td>0</td>\n",
       "      <td>0</td>\n",
       "      <td>1</td>\n",
       "    </tr>\n",
       "    <tr>\n",
       "      <th>18</th>\n",
       "      <td>2</td>\n",
       "      <td>1</td>\n",
       "      <td>88</td>\n",
       "      <td>1927</td>\n",
       "      <td>818</td>\n",
       "      <td>409</td>\n",
       "      <td>0</td>\n",
       "      <td>0</td>\n",
       "      <td>0</td>\n",
       "      <td>0</td>\n",
       "      <td>0</td>\n",
       "      <td>0</td>\n",
       "      <td>0</td>\n",
       "      <td>1</td>\n",
       "    </tr>\n",
       "    <tr>\n",
       "      <th>19</th>\n",
       "      <td>16</td>\n",
       "      <td>1</td>\n",
       "      <td>86</td>\n",
       "      <td>1929</td>\n",
       "      <td>33232</td>\n",
       "      <td>2077</td>\n",
       "      <td>0</td>\n",
       "      <td>0</td>\n",
       "      <td>0</td>\n",
       "      <td>0</td>\n",
       "      <td>0</td>\n",
       "      <td>0</td>\n",
       "      <td>0</td>\n",
       "      <td>1</td>\n",
       "    </tr>\n",
       "  </tbody>\n",
       "</table>\n",
       "</div>"
      ],
      "text/plain": [
       "    NumRec  Gender  Age  YearOfBirth  TotalDur_sec  AvgDur_sec  \\\n",
       "0        1       1  130         1885           357         357   \n",
       "1        1       1  117         1898           766         766   \n",
       "2      155       1  116         1899        188945        1219   \n",
       "3       13       0  115         1900          8976         690   \n",
       "4      806       1  115         1900        867036        1075   \n",
       "5        3       0  114         1901         27896        9298   \n",
       "6      164       1  114         1901        159245         971   \n",
       "7       63       1  109         1906         48103         763   \n",
       "8        7       1  108         1907          5645         806   \n",
       "9        6       1  106         1909          6196        1032   \n",
       "10      20       1  105         1910         25755        1287   \n",
       "11      10       0  103         1912          9194         919   \n",
       "12       1       1   98         1917           655         655   \n",
       "13      10       1   95         1920          7442         744   \n",
       "14     117       1   93         1922         71289         609   \n",
       "15       2       1   90         1925          1204         602   \n",
       "16      33       0   89         1926         20678         626   \n",
       "17       7       1   89         1926         29677        4239   \n",
       "18       2       1   88         1927           818         409   \n",
       "19      16       1   86         1929         33232        2077   \n",
       "\n",
       "    AgeRange_12-17 years old  AgeRange_18-24 years old  \\\n",
       "0                          0                         0   \n",
       "1                          0                         0   \n",
       "2                          0                         0   \n",
       "3                          0                         0   \n",
       "4                          0                         0   \n",
       "5                          0                         0   \n",
       "6                          0                         0   \n",
       "7                          0                         0   \n",
       "8                          0                         0   \n",
       "9                          0                         0   \n",
       "10                         0                         0   \n",
       "11                         0                         0   \n",
       "12                         0                         0   \n",
       "13                         0                         0   \n",
       "14                         0                         0   \n",
       "15                         0                         0   \n",
       "16                         0                         0   \n",
       "17                         0                         0   \n",
       "18                         0                         0   \n",
       "19                         0                         0   \n",
       "\n",
       "    AgeRange_25-34 years old  AgeRange_35-44 years old  \\\n",
       "0                          0                         0   \n",
       "1                          0                         0   \n",
       "2                          0                         0   \n",
       "3                          0                         0   \n",
       "4                          0                         0   \n",
       "5                          0                         0   \n",
       "6                          0                         0   \n",
       "7                          0                         0   \n",
       "8                          0                         0   \n",
       "9                          0                         0   \n",
       "10                         0                         0   \n",
       "11                         0                         0   \n",
       "12                         0                         0   \n",
       "13                         0                         0   \n",
       "14                         0                         0   \n",
       "15                         0                         0   \n",
       "16                         0                         0   \n",
       "17                         0                         0   \n",
       "18                         0                         0   \n",
       "19                         0                         0   \n",
       "\n",
       "    AgeRange_45-54 years old  AgeRange_55-64 years old  \\\n",
       "0                          0                         0   \n",
       "1                          0                         0   \n",
       "2                          0                         0   \n",
       "3                          0                         0   \n",
       "4                          0                         0   \n",
       "5                          0                         0   \n",
       "6                          0                         0   \n",
       "7                          0                         0   \n",
       "8                          0                         0   \n",
       "9                          0                         0   \n",
       "10                         0                         0   \n",
       "11                         0                         0   \n",
       "12                         0                         0   \n",
       "13                         0                         0   \n",
       "14                         0                         0   \n",
       "15                         0                         0   \n",
       "16                         0                         0   \n",
       "17                         0                         0   \n",
       "18                         0                         0   \n",
       "19                         0                         0   \n",
       "\n",
       "    AgeRange_65-74 years old  AgeRange_75 Years or older  \n",
       "0                          0                           1  \n",
       "1                          0                           1  \n",
       "2                          0                           1  \n",
       "3                          0                           1  \n",
       "4                          0                           1  \n",
       "5                          0                           1  \n",
       "6                          0                           1  \n",
       "7                          0                           1  \n",
       "8                          0                           1  \n",
       "9                          0                           1  \n",
       "10                         0                           1  \n",
       "11                         0                           1  \n",
       "12                         0                           1  \n",
       "13                         0                           1  \n",
       "14                         0                           1  \n",
       "15                         0                           1  \n",
       "16                         0                           1  \n",
       "17                         0                           1  \n",
       "18                         0                           1  \n",
       "19                         0                           1  "
      ]
     },
     "execution_count": 64,
     "metadata": {},
     "output_type": "execute_result"
    }
   ],
   "source": [
    "temp.head(20)"
   ]
  },
  {
   "cell_type": "code",
   "execution_count": 65,
   "metadata": {
    "collapsed": false
   },
   "outputs": [
    {
     "data": {
      "text/plain": [
       "['NumRec',\n",
       " 'Gender',\n",
       " 'Age',\n",
       " 'YearOfBirth',\n",
       " 'TotalDur_sec',\n",
       " 'AvgDur_sec',\n",
       " 'AgeRange_12-17 years old',\n",
       " 'AgeRange_18-24 years old',\n",
       " 'AgeRange_25-34 years old',\n",
       " 'AgeRange_35-44 years old',\n",
       " 'AgeRange_45-54 years old',\n",
       " 'AgeRange_55-64 years old',\n",
       " 'AgeRange_65-74 years old',\n",
       " 'AgeRange_75 Years or older']"
      ]
     },
     "execution_count": 65,
     "metadata": {},
     "output_type": "execute_result"
    }
   ],
   "source": [
    "list(temp)"
   ]
  },
  {
   "cell_type": "code",
   "execution_count": 66,
   "metadata": {
    "collapsed": true
   },
   "outputs": [],
   "source": [
    "Xtemp= temp[['AgeRange_12-17 years old',\n",
    " 'AgeRange_18-24 years old',\n",
    " 'AgeRange_25-34 years old',\n",
    " 'AgeRange_35-44 years old',\n",
    " 'AgeRange_45-54 years old',\n",
    " 'AgeRange_55-64 years old',\n",
    " 'AgeRange_65-74 years old',\n",
    " 'AgeRange_75 Years or older',\n",
    " 'Gender']]\n",
    "ytemp=temp[['TotalDur_sec']]"
   ]
  },
  {
   "cell_type": "code",
   "execution_count": 67,
   "metadata": {
    "collapsed": false
   },
   "outputs": [],
   "source": [
    "X_train, X_test, y_train, y_test = cross_validation.train_test_split(Xtemp, ytemp, random_state=1)"
   ]
  },
  {
   "cell_type": "code",
   "execution_count": 68,
   "metadata": {
    "collapsed": false
   },
   "outputs": [
    {
     "data": {
      "text/plain": [
       "(117, 1)"
      ]
     },
     "execution_count": 68,
     "metadata": {},
     "output_type": "execute_result"
    }
   ],
   "source": [
    "y_train.shape"
   ]
  },
  {
   "cell_type": "code",
   "execution_count": 69,
   "metadata": {
    "collapsed": false
   },
   "outputs": [
    {
     "data": {
      "text/plain": [
       "(40, 9)"
      ]
     },
     "execution_count": 69,
     "metadata": {},
     "output_type": "execute_result"
    }
   ],
   "source": [
    "X_test.shape"
   ]
  },
  {
   "cell_type": "code",
   "execution_count": 70,
   "metadata": {
    "collapsed": false
   },
   "outputs": [
    {
     "name": "stdout",
     "output_type": "stream",
     "text": [
      "0.0\n"
     ]
    }
   ],
   "source": [
    "#Try a Logistic regression.\n",
    "from sklearn.linear_model import LogisticRegression\n",
    "\n",
    "lr_rgr = LogisticRegression()\n",
    "lr_rgr.fit(X_train, y_train['TotalDur_sec'])\n",
    "y_pred_lr = lr_rgr.predict(X_test)\n",
    "print(accuracy_score(y_test,y_pred_lr))"
   ]
  },
  {
   "cell_type": "code",
   "execution_count": 72,
   "metadata": {
    "collapsed": false
   },
   "outputs": [
    {
     "name": "stdout",
     "output_type": "stream",
     "text": [
      "Training Score: 0.136752136752\n",
      "Test Score: 0.0\n"
     ]
    }
   ],
   "source": [
    "#try a Decision Tree Classifier and find feature importance\n",
    "\n",
    "ctree = tree.DecisionTreeClassifier()\n",
    "ctree = ctree.fit(X_train, y_train)\n",
    "y_pred=ctree.predict(X_test)\n",
    "print(\"Training Score: {}\".format(ctree.score(X_train, y_train)))\n",
    "print(\"Test Score: {}\".format(ctree.score(X_test, y_test)))"
   ]
  },
  {
   "cell_type": "code",
   "execution_count": 73,
   "metadata": {
    "collapsed": false
   },
   "outputs": [
    {
     "name": "stdout",
     "output_type": "stream",
     "text": [
      "Feature ranking:\n",
      "1 feature 7, AgeRange_12-17 years old, (0.133333333333)\n",
      "2 feature 5, AgeRange_18-24 years old, (0.133333333333)\n",
      "3 feature 4, AgeRange_25-34 years old, (0.133333333333)\n",
      "4 feature 3, AgeRange_35-44 years old, (0.133333333333)\n",
      "5 feature 2, AgeRange_45-54 years old, (0.133333333333)\n",
      "6 feature 1, AgeRange_55-64 years old, (0.133333333333)\n",
      "7 feature 0, AgeRange_65-74 years old, (0.133333333333)\n",
      "8 feature 8, AgeRange_75 Years or older, (0.0666666666667)\n",
      "9 feature 6, Gender, (0.0)\n"
     ]
    }
   ],
   "source": [
    "importances = ctree.feature_importances_\n",
    "indices = np.argsort(importances)[::-1]\n",
    "\n",
    "# Print the feature ranking\n",
    "print(\"Feature ranking:\")\n",
    "\n",
    "for f in range(9):\n",
    "    print(\"{} feature {}, {}, ({})\".format(f + 1, indices[f], X_test.columns[f], importances[indices[f]]))"
   ]
  },
  {
   "cell_type": "code",
   "execution_count": 75,
   "metadata": {
    "collapsed": false
   },
   "outputs": [
    {
     "data": {
      "text/plain": [
       "RandomForestClassifier(bootstrap=True, class_weight=None, criterion='gini',\n",
       "            max_depth=None, max_features='auto', max_leaf_nodes=None,\n",
       "            min_samples_leaf=1, min_samples_split=2,\n",
       "            min_weight_fraction_leaf=0.0, n_estimators=10, n_jobs=1,\n",
       "            oob_score=False, random_state=None, verbose=0,\n",
       "            warm_start=False)"
      ]
     },
     "execution_count": 75,
     "metadata": {},
     "output_type": "execute_result"
    }
   ],
   "source": [
    "#features = [\n",
    "#'AgeRange_12-17 years old',\n",
    "# 'AgeRange_18-24 years old',\n",
    "# 'AgeRange_25-34 years old',\n",
    "# 'AgeRange_35-44 years old',\n",
    "# 'AgeRange_45-54 years old',\n",
    "# 'AgeRange_55-64 years old',\n",
    "# 'AgeRange_65-74 years old',\n",
    "# 'AgeRange_75 Years or older'\n",
    "#]\n",
    "rgr = RandomForestClassifier()\n",
    "rgr.fit(X_train,y_train['TotalDur_sec'])\n",
    "#y_pred = rgr.predict(X_test)"
   ]
  },
  {
   "cell_type": "code",
   "execution_count": 30,
   "metadata": {
    "collapsed": false
   },
   "outputs": [
    {
     "name": "stderr",
     "output_type": "stream",
     "text": [
      "C:\\Anaconda\\lib\\site-packages\\sklearn\\utils\\validation.py:449: DataConversionWarning: A column-vector y was passed when a 1d array was expected. Please change the shape of y to (n_samples, ), for example using ravel().\n",
      "  y = column_or_1d(y, warn=True)\n"
     ]
    }
   ],
   "source": []
  },
  {
   "cell_type": "code",
   "execution_count": null,
   "metadata": {
    "collapsed": true
   },
   "outputs": [],
   "source": []
  }
 ],
 "metadata": {
  "kernelspec": {
   "display_name": "Python 2",
   "language": "python",
   "name": "python2"
  },
  "language_info": {
   "codemirror_mode": {
    "name": "ipython",
    "version": 2
   },
   "file_extension": ".py",
   "mimetype": "text/x-python",
   "name": "python",
   "nbconvert_exporter": "python",
   "pygments_lexer": "ipython2",
   "version": "2.7.10"
  }
 },
 "nbformat": 4,
 "nbformat_minor": 0
}
